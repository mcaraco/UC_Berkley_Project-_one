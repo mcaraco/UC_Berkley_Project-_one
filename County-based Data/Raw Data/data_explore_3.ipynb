{
 "cells": [
  {
   "cell_type": "code",
   "execution_count": 1,
   "metadata": {},
   "outputs": [],
   "source": [
    "import numpy as np\n",
    "import pandas as pd\n",
    "import scipy.stats as st\n",
    "from sklearn.cross_decomposition import PLSRegression\n",
    "from sklearn.metrics import mean_squared_error, r2_score\n",
    "import sklearn as sk\n",
    "import matplotlib.pyplot as plt\n",
    "infile = 'merged_counties_2_year_merged.csv'"
   ]
  },
  {
   "cell_type": "code",
   "execution_count": 2,
   "metadata": {},
   "outputs": [
    {
     "data": {
      "text/plain": [
       "Index(['Unnamed: 0', 'county', 'state', 'county_and_state_x', 'code', 'Deaths',\n",
       "       'Population', 'Crude Rate', 'fips', 'smoking', 'obesity', 'foodenv',\n",
       "       'exercise', 'noinsurance', 'physicians', 'pollution', 'diabetes',\n",
       "       'county_and_state_y', 'code2', 'sunlight', 'blow', 'ganj', 'smack',\n",
       "       'Age Adjusted Rate'],\n",
       "      dtype='object')"
      ]
     },
     "execution_count": 2,
     "metadata": {},
     "output_type": "execute_result"
    }
   ],
   "source": [
    "data = pd.read_csv(infile)\n",
    "data.columns"
   ]
  },
  {
   "cell_type": "code",
   "execution_count": 3,
   "metadata": {},
   "outputs": [
    {
     "data": {
      "text/plain": [
       "Index(['fips', 'smoking', 'obesity', 'foodenv', 'exercise', 'noinsurance',\n",
       "       'physicians', 'pollution', 'diabetes', 'sunlight'],\n",
       "      dtype='object')"
      ]
     },
     "execution_count": 3,
     "metadata": {},
     "output_type": "execute_result"
    }
   ],
   "source": [
    "xdata = data[['fips','smoking','obesity','foodenv','exercise','noinsurance','physicians','pollution','diabetes','sunlight']]\n",
    "xdata.columns"
   ]
  },
  {
   "cell_type": "code",
   "execution_count": 4,
   "metadata": {},
   "outputs": [],
   "source": [
    "xdata = xdata.set_index('fips')"
   ]
  },
  {
   "cell_type": "code",
   "execution_count": 5,
   "metadata": {},
   "outputs": [
    {
     "data": {
      "text/html": [
       "<div>\n",
       "<style scoped>\n",
       "    .dataframe tbody tr th:only-of-type {\n",
       "        vertical-align: middle;\n",
       "    }\n",
       "\n",
       "    .dataframe tbody tr th {\n",
       "        vertical-align: top;\n",
       "    }\n",
       "\n",
       "    .dataframe thead th {\n",
       "        text-align: right;\n",
       "    }\n",
       "</style>\n",
       "<table border=\"1\" class=\"dataframe\">\n",
       "  <thead>\n",
       "    <tr style=\"text-align: right;\">\n",
       "      <th></th>\n",
       "      <th>smoking</th>\n",
       "      <th>obesity</th>\n",
       "      <th>foodenv</th>\n",
       "      <th>exercise</th>\n",
       "      <th>noinsurance</th>\n",
       "      <th>physicians</th>\n",
       "      <th>pollution</th>\n",
       "      <th>diabetes</th>\n",
       "      <th>sunlight</th>\n",
       "    </tr>\n",
       "    <tr>\n",
       "      <th>fips</th>\n",
       "      <th></th>\n",
       "      <th></th>\n",
       "      <th></th>\n",
       "      <th></th>\n",
       "      <th></th>\n",
       "      <th></th>\n",
       "      <th></th>\n",
       "      <th></th>\n",
       "      <th></th>\n",
       "    </tr>\n",
       "  </thead>\n",
       "  <tbody>\n",
       "    <tr>\n",
       "      <th>1001.0</th>\n",
       "      <td>19.0</td>\n",
       "      <td>38.0</td>\n",
       "      <td>7.2</td>\n",
       "      <td>69.0</td>\n",
       "      <td>9.0</td>\n",
       "      <td>42.0</td>\n",
       "      <td>11.7</td>\n",
       "      <td>14.0</td>\n",
       "      <td>17103.72</td>\n",
       "    </tr>\n",
       "    <tr>\n",
       "      <th>1003.0</th>\n",
       "      <td>17.0</td>\n",
       "      <td>31.0</td>\n",
       "      <td>8.0</td>\n",
       "      <td>72.0</td>\n",
       "      <td>11.0</td>\n",
       "      <td>73.0</td>\n",
       "      <td>10.3</td>\n",
       "      <td>11.0</td>\n",
       "      <td>17660.59</td>\n",
       "    </tr>\n",
       "    <tr>\n",
       "      <th>1005.0</th>\n",
       "      <td>22.0</td>\n",
       "      <td>44.0</td>\n",
       "      <td>5.6</td>\n",
       "      <td>54.0</td>\n",
       "      <td>13.0</td>\n",
       "      <td>39.0</td>\n",
       "      <td>11.5</td>\n",
       "      <td>18.0</td>\n",
       "      <td>17315.13</td>\n",
       "    </tr>\n",
       "    <tr>\n",
       "      <th>1007.0</th>\n",
       "      <td>20.0</td>\n",
       "      <td>38.0</td>\n",
       "      <td>7.6</td>\n",
       "      <td>16.0</td>\n",
       "      <td>10.0</td>\n",
       "      <td>57.0</td>\n",
       "      <td>11.2</td>\n",
       "      <td>15.0</td>\n",
       "      <td>16904.87</td>\n",
       "    </tr>\n",
       "    <tr>\n",
       "      <th>1009.0</th>\n",
       "      <td>20.0</td>\n",
       "      <td>34.0</td>\n",
       "      <td>8.5</td>\n",
       "      <td>23.0</td>\n",
       "      <td>12.0</td>\n",
       "      <td>23.0</td>\n",
       "      <td>11.7</td>\n",
       "      <td>14.0</td>\n",
       "      <td>16393.63</td>\n",
       "    </tr>\n",
       "  </tbody>\n",
       "</table>\n",
       "</div>"
      ],
      "text/plain": [
       "        smoking  obesity  foodenv  exercise  noinsurance  physicians  \\\n",
       "fips                                                                   \n",
       "1001.0     19.0     38.0      7.2      69.0          9.0        42.0   \n",
       "1003.0     17.0     31.0      8.0      72.0         11.0        73.0   \n",
       "1005.0     22.0     44.0      5.6      54.0         13.0        39.0   \n",
       "1007.0     20.0     38.0      7.6      16.0         10.0        57.0   \n",
       "1009.0     20.0     34.0      8.5      23.0         12.0        23.0   \n",
       "\n",
       "        pollution  diabetes  sunlight  \n",
       "fips                                   \n",
       "1001.0       11.7      14.0  17103.72  \n",
       "1003.0       10.3      11.0  17660.59  \n",
       "1005.0       11.5      18.0  17315.13  \n",
       "1007.0       11.2      15.0  16904.87  \n",
       "1009.0       11.7      14.0  16393.63  "
      ]
     },
     "execution_count": 5,
     "metadata": {},
     "output_type": "execute_result"
    }
   ],
   "source": [
    "xdata.head()"
   ]
  },
  {
   "cell_type": "code",
   "execution_count": 6,
   "metadata": {},
   "outputs": [
    {
     "data": {
      "text/plain": [
       "smoking        3147\n",
       "obesity        3147\n",
       "foodenv        3128\n",
       "exercise       3141\n",
       "noinsurance    3146\n",
       "physicians     3011\n",
       "pollution      3113\n",
       "diabetes       3147\n",
       "sunlight       3112\n",
       "dtype: int64"
      ]
     },
     "execution_count": 6,
     "metadata": {},
     "output_type": "execute_result"
    }
   ],
   "source": [
    "xdata.count()"
   ]
  },
  {
   "cell_type": "code",
   "execution_count": 7,
   "metadata": {},
   "outputs": [
    {
     "data": {
      "text/html": [
       "<div>\n",
       "<style scoped>\n",
       "    .dataframe tbody tr th:only-of-type {\n",
       "        vertical-align: middle;\n",
       "    }\n",
       "\n",
       "    .dataframe tbody tr th {\n",
       "        vertical-align: top;\n",
       "    }\n",
       "\n",
       "    .dataframe thead th {\n",
       "        text-align: right;\n",
       "    }\n",
       "</style>\n",
       "<table border=\"1\" class=\"dataframe\">\n",
       "  <thead>\n",
       "    <tr style=\"text-align: right;\">\n",
       "      <th></th>\n",
       "      <th>smoking</th>\n",
       "      <th>obesity</th>\n",
       "      <th>foodenv</th>\n",
       "      <th>exercise</th>\n",
       "      <th>noinsurance</th>\n",
       "      <th>physicians</th>\n",
       "      <th>pollution</th>\n",
       "      <th>diabetes</th>\n",
       "      <th>sunlight</th>\n",
       "    </tr>\n",
       "  </thead>\n",
       "  <tbody>\n",
       "    <tr>\n",
       "      <th>count</th>\n",
       "      <td>3147.000000</td>\n",
       "      <td>3147.000000</td>\n",
       "      <td>3128.000000</td>\n",
       "      <td>3141.000000</td>\n",
       "      <td>3146.000000</td>\n",
       "      <td>3011.000000</td>\n",
       "      <td>3113.000000</td>\n",
       "      <td>3147.000000</td>\n",
       "      <td>3112.000000</td>\n",
       "    </tr>\n",
       "    <tr>\n",
       "      <th>mean</th>\n",
       "      <td>17.863997</td>\n",
       "      <td>32.121068</td>\n",
       "      <td>7.467455</td>\n",
       "      <td>62.926138</td>\n",
       "      <td>11.147807</td>\n",
       "      <td>54.604450</td>\n",
       "      <td>9.021234</td>\n",
       "      <td>11.677471</td>\n",
       "      <td>16038.079650</td>\n",
       "    </tr>\n",
       "    <tr>\n",
       "      <th>std</th>\n",
       "      <td>3.668208</td>\n",
       "      <td>4.597564</td>\n",
       "      <td>1.165923</td>\n",
       "      <td>23.101596</td>\n",
       "      <td>4.943698</td>\n",
       "      <td>35.330052</td>\n",
       "      <td>1.966374</td>\n",
       "      <td>2.620742</td>\n",
       "      <td>1499.246354</td>\n",
       "    </tr>\n",
       "    <tr>\n",
       "      <th>min</th>\n",
       "      <td>7.000000</td>\n",
       "      <td>14.000000</td>\n",
       "      <td>0.000000</td>\n",
       "      <td>0.000000</td>\n",
       "      <td>2.000000</td>\n",
       "      <td>0.000000</td>\n",
       "      <td>3.000000</td>\n",
       "      <td>3.000000</td>\n",
       "      <td>12945.790000</td>\n",
       "    </tr>\n",
       "    <tr>\n",
       "      <th>25%</th>\n",
       "      <td>15.000000</td>\n",
       "      <td>29.000000</td>\n",
       "      <td>6.900000</td>\n",
       "      <td>49.000000</td>\n",
       "      <td>7.000000</td>\n",
       "      <td>32.000000</td>\n",
       "      <td>7.700000</td>\n",
       "      <td>10.000000</td>\n",
       "      <td>14808.935000</td>\n",
       "    </tr>\n",
       "    <tr>\n",
       "      <th>50%</th>\n",
       "      <td>17.000000</td>\n",
       "      <td>32.000000</td>\n",
       "      <td>7.700000</td>\n",
       "      <td>66.000000</td>\n",
       "      <td>10.000000</td>\n",
       "      <td>49.000000</td>\n",
       "      <td>9.400000</td>\n",
       "      <td>12.000000</td>\n",
       "      <td>15843.840000</td>\n",
       "    </tr>\n",
       "    <tr>\n",
       "      <th>75%</th>\n",
       "      <td>20.000000</td>\n",
       "      <td>35.000000</td>\n",
       "      <td>8.200000</td>\n",
       "      <td>80.000000</td>\n",
       "      <td>14.000000</td>\n",
       "      <td>71.000000</td>\n",
       "      <td>10.400000</td>\n",
       "      <td>13.000000</td>\n",
       "      <td>17173.302500</td>\n",
       "    </tr>\n",
       "    <tr>\n",
       "      <th>max</th>\n",
       "      <td>43.000000</td>\n",
       "      <td>50.000000</td>\n",
       "      <td>10.000000</td>\n",
       "      <td>100.000000</td>\n",
       "      <td>33.000000</td>\n",
       "      <td>477.000000</td>\n",
       "      <td>19.700000</td>\n",
       "      <td>21.000000</td>\n",
       "      <td>20774.770000</td>\n",
       "    </tr>\n",
       "  </tbody>\n",
       "</table>\n",
       "</div>"
      ],
      "text/plain": [
       "           smoking      obesity      foodenv     exercise  noinsurance  \\\n",
       "count  3147.000000  3147.000000  3128.000000  3141.000000  3146.000000   \n",
       "mean     17.863997    32.121068     7.467455    62.926138    11.147807   \n",
       "std       3.668208     4.597564     1.165923    23.101596     4.943698   \n",
       "min       7.000000    14.000000     0.000000     0.000000     2.000000   \n",
       "25%      15.000000    29.000000     6.900000    49.000000     7.000000   \n",
       "50%      17.000000    32.000000     7.700000    66.000000    10.000000   \n",
       "75%      20.000000    35.000000     8.200000    80.000000    14.000000   \n",
       "max      43.000000    50.000000    10.000000   100.000000    33.000000   \n",
       "\n",
       "        physicians    pollution     diabetes      sunlight  \n",
       "count  3011.000000  3113.000000  3147.000000   3112.000000  \n",
       "mean     54.604450     9.021234    11.677471  16038.079650  \n",
       "std      35.330052     1.966374     2.620742   1499.246354  \n",
       "min       0.000000     3.000000     3.000000  12945.790000  \n",
       "25%      32.000000     7.700000    10.000000  14808.935000  \n",
       "50%      49.000000     9.400000    12.000000  15843.840000  \n",
       "75%      71.000000    10.400000    13.000000  17173.302500  \n",
       "max     477.000000    19.700000    21.000000  20774.770000  "
      ]
     },
     "execution_count": 7,
     "metadata": {},
     "output_type": "execute_result"
    }
   ],
   "source": [
    "xdata.describe()"
   ]
  },
  {
   "cell_type": "code",
   "execution_count": 8,
   "metadata": {},
   "outputs": [
    {
     "data": {
      "text/plain": [
       "<matplotlib.axes._subplots.AxesSubplot at 0x24340521080>"
      ]
     },
     "execution_count": 8,
     "metadata": {},
     "output_type": "execute_result"
    },
    {
     "data": {
      "image/png": "[encoded data removed]",
      "text/plain": [
       "<Figure size 432x288 with 1 Axes>"
      ]
     },
     "metadata": {
      "needs_background": "light"
     },
     "output_type": "display_data"
    }
   ],
   "source": [
    "xdata.smoking.hist(bins=35)"
   ]
  },
  {
   "cell_type": "code",
   "execution_count": 9,
   "metadata": {},
   "outputs": [
    {
     "data": {
      "text/plain": [
       "2.4576594544282275"
      ]
     },
     "execution_count": 9,
     "metadata": {},
     "output_type": "execute_result"
    }
   ],
   "source": [
    "xdata.smoking.kurtosis()"
   ]
  },
  {
   "cell_type": "code",
   "execution_count": 10,
   "metadata": {},
   "outputs": [
    {
     "data": {
      "text/plain": [
       "0.8053556397878564"
      ]
     },
     "execution_count": 10,
     "metadata": {},
     "output_type": "execute_result"
    }
   ],
   "source": [
    "xdata.smoking.skew()"
   ]
  },
  {
   "cell_type": "code",
   "execution_count": 11,
   "metadata": {},
   "outputs": [
    {
     "name": "stderr",
     "output_type": "stream",
     "text": [
      "C:\\Users\\andre\\Anaconda3\\envs\\plotenv\\lib\\site-packages\\ipykernel_launcher.py:1: RuntimeWarning: invalid value encountered in sign\n",
      "  \"\"\"Entry point for launching an IPython kernel.\n"
     ]
    },
    {
     "data": {
      "text/plain": [
       "<matplotlib.axes._subplots.AxesSubplot at 0x2434097af28>"
      ]
     },
     "execution_count": 11,
     "metadata": {},
     "output_type": "execute_result"
    },
    {
     "data": {
      "image/png": "[encoded data removed]",
      "text/plain": [
       "<Figure size 432x288 with 1 Axes>"
      ]
     },
     "metadata": {
      "needs_background": "light"
     },
     "output_type": "display_data"
    }
   ],
   "source": [
    "smoking_tr = np.sign(xdata.smoking - 17)*np.power(np.abs(xdata.smoking - 17) / 2.5, 0.75)\n",
    "smoking_tr_df = pd.DataFrame(smoking_tr)\n",
    "smoking_tr_df.smoking.hist(bins=40)"
   ]
  },
  {
   "cell_type": "code",
   "execution_count": 12,
   "metadata": {},
   "outputs": [
    {
     "data": {
      "text/plain": [
       "-0.3464118533217557"
      ]
     },
     "execution_count": 12,
     "metadata": {},
     "output_type": "execute_result"
    }
   ],
   "source": [
    "smoking_tr_df.smoking.kurtosis()"
   ]
  },
  {
   "cell_type": "code",
   "execution_count": 13,
   "metadata": {},
   "outputs": [
    {
     "data": {
      "text/plain": [
       "0.2780787389599752"
      ]
     },
     "execution_count": 13,
     "metadata": {},
     "output_type": "execute_result"
    }
   ],
   "source": [
    "smoking_tr_df.smoking.skew()"
   ]
  },
  {
   "cell_type": "code",
   "execution_count": 14,
   "metadata": {},
   "outputs": [
    {
     "data": {
      "text/plain": [
       "<matplotlib.axes._subplots.AxesSubplot at 0x24340a69e10>"
      ]
     },
     "execution_count": 14,
     "metadata": {},
     "output_type": "execute_result"
    },
    {
     "data": {
      "image/png": "[encoded data removed]",
      "text/plain": [
       "<Figure size 432x288 with 1 Axes>"
      ]
     },
     "metadata": {
      "needs_background": "light"
     },
     "output_type": "display_data"
    }
   ],
   "source": [
    "xdata.obesity.hist(bins=35)"
   ]
  },
  {
   "cell_type": "code",
   "execution_count": 15,
   "metadata": {},
   "outputs": [
    {
     "data": {
      "text/plain": [
       "0.8504216318610034"
      ]
     },
     "execution_count": 15,
     "metadata": {},
     "output_type": "execute_result"
    }
   ],
   "source": [
    "xdata.obesity.kurtosis()"
   ]
  },
  {
   "cell_type": "code",
   "execution_count": 16,
   "metadata": {},
   "outputs": [
    {
     "data": {
      "text/plain": [
       "-0.39386580840178353"
      ]
     },
     "execution_count": 16,
     "metadata": {},
     "output_type": "execute_result"
    }
   ],
   "source": [
    "xdata.obesity.skew()"
   ]
  },
  {
   "cell_type": "code",
   "execution_count": 17,
   "metadata": {},
   "outputs": [
    {
     "data": {
      "text/plain": [
       "<matplotlib.axes._subplots.AxesSubplot at 0x24340b17470>"
      ]
     },
     "execution_count": 17,
     "metadata": {},
     "output_type": "execute_result"
    },
    {
     "data": {
      "image/png": "[encoded data removed]",
      "text/plain": [
       "<Figure size 432x288 with 1 Axes>"
      ]
     },
     "metadata": {
      "needs_background": "light"
     },
     "output_type": "display_data"
    }
   ],
   "source": [
    "data.plot(x='smoking',y='Age Adjusted Rate',kind='scatter')"
   ]
  },
  {
   "cell_type": "code",
   "execution_count": 18,
   "metadata": {},
   "outputs": [
    {
     "data": {
      "text/plain": [
       "<matplotlib.axes._subplots.AxesSubplot at 0x24340b89080>"
      ]
     },
     "execution_count": 18,
     "metadata": {},
     "output_type": "execute_result"
    },
    {
     "data": {
      "image/png": "[encoded data removed]",
      "text/plain": [
       "<Figure size 432x288 with 1 Axes>"
      ]
     },
     "metadata": {
      "needs_background": "light"
     },
     "output_type": "display_data"
    }
   ],
   "source": [
    "xdata.foodenv.hist(bins=100)"
   ]
  },
  {
   "cell_type": "code",
   "execution_count": 19,
   "metadata": {},
   "outputs": [
    {
     "data": {
      "text/plain": [
       "4.109489923595004"
      ]
     },
     "execution_count": 19,
     "metadata": {},
     "output_type": "execute_result"
    }
   ],
   "source": [
    "xdata.foodenv.kurtosis()"
   ]
  },
  {
   "cell_type": "code",
   "execution_count": 20,
   "metadata": {},
   "outputs": [
    {
     "data": {
      "text/plain": [
       "-1.5105775026510035"
      ]
     },
     "execution_count": 20,
     "metadata": {},
     "output_type": "execute_result"
    }
   ],
   "source": [
    "xdata.foodenv.skew()"
   ]
  },
  {
   "cell_type": "code",
   "execution_count": 21,
   "metadata": {},
   "outputs": [
    {
     "data": {
      "text/plain": [
       "<matplotlib.axes._subplots.AxesSubplot at 0x24340cd85f8>"
      ]
     },
     "execution_count": 21,
     "metadata": {},
     "output_type": "execute_result"
    },
    {
     "data": {
      "image/png": "[encoded data removed]",
      "text/plain": [
       "<Figure size 432x288 with 1 Axes>"
      ]
     },
     "metadata": {
      "needs_background": "light"
     },
     "output_type": "display_data"
    }
   ],
   "source": [
    "foodenv_tr = np.divide(xdata.foodenv,(15 - xdata.foodenv))\n",
    "foodenv_tr_df = pd.DataFrame(foodenv_tr)\n",
    "foodenv_tr_df.foodenv.hist(bins=40)"
   ]
  },
  {
   "cell_type": "code",
   "execution_count": 22,
   "metadata": {},
   "outputs": [
    {
     "data": {
      "text/plain": [
       "fips\n",
       "1001.0    0.923077\n",
       "1003.0    1.142857\n",
       "1005.0    0.595745\n",
       "1007.0    1.027027\n",
       "1009.0    1.307692\n",
       "Name: foodenv, dtype: float64"
      ]
     },
     "execution_count": 22,
     "metadata": {},
     "output_type": "execute_result"
    }
   ],
   "source": [
    "foodenv_tr.head()"
   ]
  },
  {
   "cell_type": "code",
   "execution_count": 23,
   "metadata": {},
   "outputs": [
    {
     "data": {
      "text/plain": [
       "0.37280081011135247"
      ]
     },
     "execution_count": 23,
     "metadata": {},
     "output_type": "execute_result"
    }
   ],
   "source": [
    "foodenv_tr_df.foodenv.kurtosis()"
   ]
  },
  {
   "cell_type": "code",
   "execution_count": 24,
   "metadata": {},
   "outputs": [
    {
     "data": {
      "text/plain": [
       "-0.3112997331211166"
      ]
     },
     "execution_count": 24,
     "metadata": {},
     "output_type": "execute_result"
    }
   ],
   "source": [
    "foodenv_tr_df.foodenv.skew()"
   ]
  },
  {
   "cell_type": "code",
   "execution_count": 25,
   "metadata": {},
   "outputs": [
    {
     "data": {
      "text/plain": [
       "<matplotlib.axes._subplots.AxesSubplot at 0x24340d9a518>"
      ]
     },
     "execution_count": 25,
     "metadata": {},
     "output_type": "execute_result"
    },
    {
     "data": {
      "image/png": "[encoded data removed]",
      "text/plain": [
       "<Figure size 432x288 with 1 Axes>"
      ]
     },
     "metadata": {
      "needs_background": "light"
     },
     "output_type": "display_data"
    }
   ],
   "source": [
    "data.exercise.hist(bins=100)"
   ]
  },
  {
   "cell_type": "code",
   "execution_count": 26,
   "metadata": {},
   "outputs": [],
   "source": [
    "exrank = xdata.exercise.rank(method='average',ascending=False, pct=True)"
   ]
  },
  {
   "cell_type": "code",
   "execution_count": 27,
   "metadata": {},
   "outputs": [
    {
     "data": {
      "text/plain": [
       "fips\n",
       "1001.0    0.452245\n",
       "1003.0    0.398918\n",
       "1005.0    0.686724\n",
       "1007.0    0.953200\n",
       "1009.0    0.931232\n",
       "Name: exercise, dtype: float64"
      ]
     },
     "execution_count": 27,
     "metadata": {},
     "output_type": "execute_result"
    }
   ],
   "source": [
    "exrank.head()"
   ]
  },
  {
   "cell_type": "code",
   "execution_count": 28,
   "metadata": {
    "scrolled": true
   },
   "outputs": [
    {
     "data": {
      "text/plain": [
       "array([[<matplotlib.axes._subplots.AxesSubplot object at 0x0000024340E7B6D8>]],\n",
       "      dtype=object)"
      ]
     },
     "execution_count": 28,
     "metadata": {},
     "output_type": "execute_result"
    },
    {
     "data": {
      "image/png": "[encoded data removed]",
      "text/plain": [
       "<Figure size 432x288 with 1 Axes>"
      ]
     },
     "metadata": {
      "needs_background": "light"
     },
     "output_type": "display_data"
    }
   ],
   "source": [
    "gexrank = exrank.map(lambda x : st.norm.ppf(x),na_action='ignore')\n",
    "gexrank_df = pd.DataFrame(gexrank)\n",
    "gexrank_df.hist(bins=50)"
   ]
  },
  {
   "cell_type": "code",
   "execution_count": 29,
   "metadata": {},
   "outputs": [
    {
     "data": {
      "text/plain": [
       "fips\n",
       "1001.0   -0.119993\n",
       "1003.0   -0.256150\n",
       "1005.0    0.486586\n",
       "1007.0    1.676702\n",
       "1009.0    1.485030\n",
       "Name: exercise, dtype: float64"
      ]
     },
     "execution_count": 29,
     "metadata": {},
     "output_type": "execute_result"
    }
   ],
   "source": [
    "gexrank.head()"
   ]
  },
  {
   "cell_type": "code",
   "execution_count": 30,
   "metadata": {},
   "outputs": [
    {
     "data": {
      "text/plain": [
       "-0.1913189400148383"
      ]
     },
     "execution_count": 30,
     "metadata": {},
     "output_type": "execute_result"
    }
   ],
   "source": [
    "gexrank_df.exercise.kurtosis()"
   ]
  },
  {
   "cell_type": "code",
   "execution_count": 31,
   "metadata": {},
   "outputs": [
    {
     "data": {
      "text/plain": [
       "0.03119005262206821"
      ]
     },
     "execution_count": 31,
     "metadata": {},
     "output_type": "execute_result"
    }
   ],
   "source": [
    "gexrank_df.exercise.skew()"
   ]
  },
  {
   "cell_type": "code",
   "execution_count": 32,
   "metadata": {},
   "outputs": [
    {
     "data": {
      "text/plain": [
       "<matplotlib.axes._subplots.AxesSubplot at 0x24340fcb1d0>"
      ]
     },
     "execution_count": 32,
     "metadata": {},
     "output_type": "execute_result"
    },
    {
     "data": {
      "image/png": "[encoded data removed]",
      "text/plain": [
       "<Figure size 432x288 with 1 Axes>"
      ]
     },
     "metadata": {
      "needs_background": "light"
     },
     "output_type": "display_data"
    }
   ],
   "source": [
    "data.noinsurance.hist(bins=30)"
   ]
  },
  {
   "cell_type": "code",
   "execution_count": 33,
   "metadata": {},
   "outputs": [
    {
     "data": {
      "text/plain": [
       "0.645147111594488"
      ]
     },
     "execution_count": 33,
     "metadata": {},
     "output_type": "execute_result"
    }
   ],
   "source": [
    "data.noinsurance.kurtosis()"
   ]
  },
  {
   "cell_type": "code",
   "execution_count": 34,
   "metadata": {},
   "outputs": [
    {
     "data": {
      "text/plain": [
       "0.8721837672969731"
      ]
     },
     "execution_count": 34,
     "metadata": {},
     "output_type": "execute_result"
    }
   ],
   "source": [
    "data.noinsurance.skew()"
   ]
  },
  {
   "cell_type": "code",
   "execution_count": 35,
   "metadata": {},
   "outputs": [
    {
     "data": {
      "text/plain": [
       "<matplotlib.axes._subplots.AxesSubplot at 0x24341069e48>"
      ]
     },
     "execution_count": 35,
     "metadata": {},
     "output_type": "execute_result"
    },
    {
     "data": {
      "image/png": "[encoded data removed]",
      "text/plain": [
       "<Figure size 432x288 with 1 Axes>"
      ]
     },
     "metadata": {
      "needs_background": "light"
     },
     "output_type": "display_data"
    }
   ],
   "source": [
    "noinsurance_tr = np.sqrt(xdata.noinsurance / 100)\n",
    "noinsurance_tr_df = pd.DataFrame(noinsurance_tr)\n",
    "noinsurance_tr_df.noinsurance.hist(bins=100)"
   ]
  },
  {
   "cell_type": "code",
   "execution_count": 36,
   "metadata": {},
   "outputs": [
    {
     "data": {
      "text/plain": [
       "-0.33179586694743657"
      ]
     },
     "execution_count": 36,
     "metadata": {},
     "output_type": "execute_result"
    }
   ],
   "source": [
    "noinsurance_tr_df.noinsurance.kurtosis()"
   ]
  },
  {
   "cell_type": "code",
   "execution_count": 37,
   "metadata": {},
   "outputs": [
    {
     "data": {
      "text/plain": [
       "0.3667274675946348"
      ]
     },
     "execution_count": 37,
     "metadata": {},
     "output_type": "execute_result"
    }
   ],
   "source": [
    "noinsurance_tr_df.noinsurance.skew()"
   ]
  },
  {
   "cell_type": "code",
   "execution_count": 38,
   "metadata": {},
   "outputs": [
    {
     "data": {
      "text/plain": [
       "<matplotlib.axes._subplots.AxesSubplot at 0x243411a66a0>"
      ]
     },
     "execution_count": 38,
     "metadata": {},
     "output_type": "execute_result"
    },
    {
     "data": {
      "image/png": "[encoded data removed]",
      "text/plain": [
       "<Figure size 432x288 with 1 Axes>"
      ]
     },
     "metadata": {
      "needs_background": "light"
     },
     "output_type": "display_data"
    }
   ],
   "source": [
    "data.physicians.hist(bins=30)"
   ]
  },
  {
   "cell_type": "code",
   "execution_count": 39,
   "metadata": {},
   "outputs": [
    {
     "data": {
      "text/plain": [
       "16.74574258848014"
      ]
     },
     "execution_count": 39,
     "metadata": {},
     "output_type": "execute_result"
    }
   ],
   "source": [
    "data.physicians.kurtosis()"
   ]
  },
  {
   "cell_type": "code",
   "execution_count": 40,
   "metadata": {},
   "outputs": [
    {
     "data": {
      "text/plain": [
       "2.4184225043647416"
      ]
     },
     "execution_count": 40,
     "metadata": {},
     "output_type": "execute_result"
    }
   ],
   "source": [
    "data.physicians.skew()"
   ]
  },
  {
   "cell_type": "code",
   "execution_count": 41,
   "metadata": {},
   "outputs": [
    {
     "data": {
      "text/plain": [
       "<matplotlib.axes._subplots.AxesSubplot at 0x24342232908>"
      ]
     },
     "execution_count": 41,
     "metadata": {},
     "output_type": "execute_result"
    },
    {
     "data": {
      "image/png": "[encoded data removed]",
      "text/plain": [
       "<Figure size 432x288 with 1 Axes>"
      ]
     },
     "metadata": {
      "needs_background": "light"
     },
     "output_type": "display_data"
    }
   ],
   "source": [
    "physicians_tr = np.log(xdata.physicians + 1)\n",
    "physicians_tr_df = pd.DataFrame(physicians_tr)\n",
    "physicians_tr_df.physicians.hist(bins=30)"
   ]
  },
  {
   "cell_type": "code",
   "execution_count": 42,
   "metadata": {},
   "outputs": [
    {
     "data": {
      "text/plain": [
       "0.7073611783877793"
      ]
     },
     "execution_count": 42,
     "metadata": {},
     "output_type": "execute_result"
    }
   ],
   "source": [
    "physicians_tr_df.physicians.loc[physicians_tr_df['physicians'] > 0].kurtosis()"
   ]
  },
  {
   "cell_type": "code",
   "execution_count": 43,
   "metadata": {},
   "outputs": [
    {
     "data": {
      "text/plain": [
       "-0.513578545951703"
      ]
     },
     "execution_count": 43,
     "metadata": {},
     "output_type": "execute_result"
    }
   ],
   "source": [
    "physicians_tr_df.physicians.loc[physicians_tr_df['physicians'] > 0].skew()"
   ]
  },
  {
   "cell_type": "code",
   "execution_count": 44,
   "metadata": {},
   "outputs": [
    {
     "data": {
      "text/plain": [
       "<matplotlib.axes._subplots.AxesSubplot at 0x24340fcb7f0>"
      ]
     },
     "execution_count": 44,
     "metadata": {},
     "output_type": "execute_result"
    },
    {
     "data": {
      "image/png": "[encoded data removed]",
      "text/plain": [
       "<Figure size 432x288 with 1 Axes>"
      ]
     },
     "metadata": {
      "needs_background": "light"
     },
     "output_type": "display_data"
    }
   ],
   "source": [
    "data.pollution.hist(bins=30)"
   ]
  },
  {
   "cell_type": "code",
   "execution_count": 45,
   "metadata": {},
   "outputs": [
    {
     "data": {
      "text/plain": [
       "0.12756953354874812"
      ]
     },
     "execution_count": 45,
     "metadata": {},
     "output_type": "execute_result"
    }
   ],
   "source": [
    "data.pollution.kurtosis()"
   ]
  },
  {
   "cell_type": "code",
   "execution_count": 46,
   "metadata": {},
   "outputs": [
    {
     "data": {
      "text/plain": [
       "-0.3800832326194176"
      ]
     },
     "execution_count": 46,
     "metadata": {},
     "output_type": "execute_result"
    }
   ],
   "source": [
    "data.pollution.skew()"
   ]
  },
  {
   "cell_type": "code",
   "execution_count": 47,
   "metadata": {},
   "outputs": [
    {
     "data": {
      "text/plain": [
       "<matplotlib.axes._subplots.AxesSubplot at 0x24342380c18>"
      ]
     },
     "execution_count": 47,
     "metadata": {},
     "output_type": "execute_result"
    },
    {
     "data": {
      "image/png": "[encoded data removed]",
      "text/plain": [
       "<Figure size 432x288 with 1 Axes>"
      ]
     },
     "metadata": {
      "needs_background": "light"
     },
     "output_type": "display_data"
    }
   ],
   "source": [
    "data.diabetes.hist(bins=19)"
   ]
  },
  {
   "cell_type": "code",
   "execution_count": 48,
   "metadata": {},
   "outputs": [
    {
     "data": {
      "text/plain": [
       "-0.05469148060926665"
      ]
     },
     "execution_count": 48,
     "metadata": {},
     "output_type": "execute_result"
    }
   ],
   "source": [
    "data.diabetes.kurtosis()"
   ]
  },
  {
   "cell_type": "code",
   "execution_count": 49,
   "metadata": {},
   "outputs": [
    {
     "data": {
      "text/plain": [
       "0.24755912959895776"
      ]
     },
     "execution_count": 49,
     "metadata": {},
     "output_type": "execute_result"
    }
   ],
   "source": [
    "data.diabetes.skew()"
   ]
  },
  {
   "cell_type": "code",
   "execution_count": 50,
   "metadata": {},
   "outputs": [
    {
     "data": {
      "text/plain": [
       "<matplotlib.axes._subplots.AxesSubplot at 0x2434240ea58>"
      ]
     },
     "execution_count": 50,
     "metadata": {},
     "output_type": "execute_result"
    },
    {
     "data": {
      "image/png": "[encoded data removed]",
      "text/plain": [
       "<Figure size 432x288 with 1 Axes>"
      ]
     },
     "metadata": {
      "needs_background": "light"
     },
     "output_type": "display_data"
    }
   ],
   "source": [
    "data.sunlight.hist(bins=30)"
   ]
  },
  {
   "cell_type": "code",
   "execution_count": 51,
   "metadata": {},
   "outputs": [
    {
     "data": {
      "text/plain": [
       "-0.40994072944805326"
      ]
     },
     "execution_count": 51,
     "metadata": {},
     "output_type": "execute_result"
    }
   ],
   "source": [
    "data.sunlight.kurtosis()"
   ]
  },
  {
   "cell_type": "code",
   "execution_count": 52,
   "metadata": {},
   "outputs": [
    {
     "data": {
      "text/plain": [
       "0.5066839759743657"
      ]
     },
     "execution_count": 52,
     "metadata": {},
     "output_type": "execute_result"
    }
   ],
   "source": [
    "data.sunlight.skew()"
   ]
  },
  {
   "cell_type": "code",
   "execution_count": 53,
   "metadata": {},
   "outputs": [],
   "source": [
    "xdata['smoking_tr'] = smoking_tr"
   ]
  },
  {
   "cell_type": "code",
   "execution_count": 54,
   "metadata": {},
   "outputs": [],
   "source": [
    "xdata['foodenv_tr'] = foodenv_tr"
   ]
  },
  {
   "cell_type": "code",
   "execution_count": 55,
   "metadata": {},
   "outputs": [],
   "source": [
    "xdata['gauss_exercise'] = gexrank"
   ]
  },
  {
   "cell_type": "code",
   "execution_count": 56,
   "metadata": {},
   "outputs": [],
   "source": [
    "xdata['noinsurance_tr'] = noinsurance_tr"
   ]
  },
  {
   "cell_type": "code",
   "execution_count": 57,
   "metadata": {},
   "outputs": [],
   "source": [
    "xdata['physicians_tr'] = physicians_tr"
   ]
  },
  {
   "cell_type": "code",
   "execution_count": 58,
   "metadata": {},
   "outputs": [
    {
     "data": {
      "text/plain": [
       "3189"
      ]
     },
     "execution_count": 58,
     "metadata": {},
     "output_type": "execute_result"
    }
   ],
   "source": [
    "len(xdata)"
   ]
  },
  {
   "cell_type": "code",
   "execution_count": 59,
   "metadata": {},
   "outputs": [
    {
     "data": {
      "text/html": [
       "<div>\n",
       "<style scoped>\n",
       "    .dataframe tbody tr th:only-of-type {\n",
       "        vertical-align: middle;\n",
       "    }\n",
       "\n",
       "    .dataframe tbody tr th {\n",
       "        vertical-align: top;\n",
       "    }\n",
       "\n",
       "    .dataframe thead th {\n",
       "        text-align: right;\n",
       "    }\n",
       "</style>\n",
       "<table border=\"1\" class=\"dataframe\">\n",
       "  <thead>\n",
       "    <tr style=\"text-align: right;\">\n",
       "      <th></th>\n",
       "      <th>smoking</th>\n",
       "      <th>obesity</th>\n",
       "      <th>foodenv</th>\n",
       "      <th>exercise</th>\n",
       "      <th>noinsurance</th>\n",
       "      <th>physicians</th>\n",
       "      <th>pollution</th>\n",
       "      <th>diabetes</th>\n",
       "      <th>sunlight</th>\n",
       "      <th>smoking_tr</th>\n",
       "      <th>foodenv_tr</th>\n",
       "      <th>gauss_exercise</th>\n",
       "      <th>noinsurance_tr</th>\n",
       "      <th>physicians_tr</th>\n",
       "    </tr>\n",
       "    <tr>\n",
       "      <th>fips</th>\n",
       "      <th></th>\n",
       "      <th></th>\n",
       "      <th></th>\n",
       "      <th></th>\n",
       "      <th></th>\n",
       "      <th></th>\n",
       "      <th></th>\n",
       "      <th></th>\n",
       "      <th></th>\n",
       "      <th></th>\n",
       "      <th></th>\n",
       "      <th></th>\n",
       "      <th></th>\n",
       "      <th></th>\n",
       "    </tr>\n",
       "  </thead>\n",
       "  <tbody>\n",
       "    <tr>\n",
       "      <th>1001.0</th>\n",
       "      <td>19.0</td>\n",
       "      <td>38.0</td>\n",
       "      <td>7.2</td>\n",
       "      <td>69.0</td>\n",
       "      <td>9.0</td>\n",
       "      <td>42.0</td>\n",
       "      <td>11.7</td>\n",
       "      <td>14.0</td>\n",
       "      <td>17103.72</td>\n",
       "      <td>0.845897</td>\n",
       "      <td>0.923077</td>\n",
       "      <td>-0.119993</td>\n",
       "      <td>0.300000</td>\n",
       "      <td>3.761200</td>\n",
       "    </tr>\n",
       "    <tr>\n",
       "      <th>1003.0</th>\n",
       "      <td>17.0</td>\n",
       "      <td>31.0</td>\n",
       "      <td>8.0</td>\n",
       "      <td>72.0</td>\n",
       "      <td>11.0</td>\n",
       "      <td>73.0</td>\n",
       "      <td>10.3</td>\n",
       "      <td>11.0</td>\n",
       "      <td>17660.59</td>\n",
       "      <td>0.000000</td>\n",
       "      <td>1.142857</td>\n",
       "      <td>-0.256150</td>\n",
       "      <td>0.331662</td>\n",
       "      <td>4.304065</td>\n",
       "    </tr>\n",
       "    <tr>\n",
       "      <th>1005.0</th>\n",
       "      <td>22.0</td>\n",
       "      <td>44.0</td>\n",
       "      <td>5.6</td>\n",
       "      <td>54.0</td>\n",
       "      <td>13.0</td>\n",
       "      <td>39.0</td>\n",
       "      <td>11.5</td>\n",
       "      <td>18.0</td>\n",
       "      <td>17315.13</td>\n",
       "      <td>1.681793</td>\n",
       "      <td>0.595745</td>\n",
       "      <td>0.486586</td>\n",
       "      <td>0.360555</td>\n",
       "      <td>3.688879</td>\n",
       "    </tr>\n",
       "    <tr>\n",
       "      <th>1007.0</th>\n",
       "      <td>20.0</td>\n",
       "      <td>38.0</td>\n",
       "      <td>7.6</td>\n",
       "      <td>16.0</td>\n",
       "      <td>10.0</td>\n",
       "      <td>57.0</td>\n",
       "      <td>11.2</td>\n",
       "      <td>15.0</td>\n",
       "      <td>16904.87</td>\n",
       "      <td>1.146531</td>\n",
       "      <td>1.027027</td>\n",
       "      <td>1.676702</td>\n",
       "      <td>0.316228</td>\n",
       "      <td>4.060443</td>\n",
       "    </tr>\n",
       "    <tr>\n",
       "      <th>1009.0</th>\n",
       "      <td>20.0</td>\n",
       "      <td>34.0</td>\n",
       "      <td>8.5</td>\n",
       "      <td>23.0</td>\n",
       "      <td>12.0</td>\n",
       "      <td>23.0</td>\n",
       "      <td>11.7</td>\n",
       "      <td>14.0</td>\n",
       "      <td>16393.63</td>\n",
       "      <td>1.146531</td>\n",
       "      <td>1.307692</td>\n",
       "      <td>1.485030</td>\n",
       "      <td>0.346410</td>\n",
       "      <td>3.178054</td>\n",
       "    </tr>\n",
       "  </tbody>\n",
       "</table>\n",
       "</div>"
      ],
      "text/plain": [
       "        smoking  obesity  foodenv  exercise  noinsurance  physicians  \\\n",
       "fips                                                                   \n",
       "1001.0     19.0     38.0      7.2      69.0          9.0        42.0   \n",
       "1003.0     17.0     31.0      8.0      72.0         11.0        73.0   \n",
       "1005.0     22.0     44.0      5.6      54.0         13.0        39.0   \n",
       "1007.0     20.0     38.0      7.6      16.0         10.0        57.0   \n",
       "1009.0     20.0     34.0      8.5      23.0         12.0        23.0   \n",
       "\n",
       "        pollution  diabetes  sunlight  smoking_tr  foodenv_tr  gauss_exercise  \\\n",
       "fips                                                                            \n",
       "1001.0       11.7      14.0  17103.72    0.845897    0.923077       -0.119993   \n",
       "1003.0       10.3      11.0  17660.59    0.000000    1.142857       -0.256150   \n",
       "1005.0       11.5      18.0  17315.13    1.681793    0.595745        0.486586   \n",
       "1007.0       11.2      15.0  16904.87    1.146531    1.027027        1.676702   \n",
       "1009.0       11.7      14.0  16393.63    1.146531    1.307692        1.485030   \n",
       "\n",
       "        noinsurance_tr  physicians_tr  \n",
       "fips                                   \n",
       "1001.0        0.300000       3.761200  \n",
       "1003.0        0.331662       4.304065  \n",
       "1005.0        0.360555       3.688879  \n",
       "1007.0        0.316228       4.060443  \n",
       "1009.0        0.346410       3.178054  "
      ]
     },
     "execution_count": 59,
     "metadata": {},
     "output_type": "execute_result"
    }
   ],
   "source": [
    "xdata.head()"
   ]
  },
  {
   "cell_type": "code",
   "execution_count": 60,
   "metadata": {},
   "outputs": [
    {
     "data": {
      "text/html": [
       "<div>\n",
       "<style scoped>\n",
       "    .dataframe tbody tr th:only-of-type {\n",
       "        vertical-align: middle;\n",
       "    }\n",
       "\n",
       "    .dataframe tbody tr th {\n",
       "        vertical-align: top;\n",
       "    }\n",
       "\n",
       "    .dataframe thead th {\n",
       "        text-align: right;\n",
       "    }\n",
       "</style>\n",
       "<table border=\"1\" class=\"dataframe\">\n",
       "  <thead>\n",
       "    <tr style=\"text-align: right;\">\n",
       "      <th></th>\n",
       "      <th>obesity</th>\n",
       "      <th>pollution</th>\n",
       "      <th>diabetes</th>\n",
       "      <th>sunlight</th>\n",
       "      <th>smoking_tr</th>\n",
       "      <th>foodenv_tr</th>\n",
       "      <th>gauss_exercise</th>\n",
       "      <th>noinsurance_tr</th>\n",
       "      <th>physicians_tr</th>\n",
       "    </tr>\n",
       "    <tr>\n",
       "      <th>fips</th>\n",
       "      <th></th>\n",
       "      <th></th>\n",
       "      <th></th>\n",
       "      <th></th>\n",
       "      <th></th>\n",
       "      <th></th>\n",
       "      <th></th>\n",
       "      <th></th>\n",
       "      <th></th>\n",
       "    </tr>\n",
       "  </thead>\n",
       "  <tbody>\n",
       "    <tr>\n",
       "      <th>1001.0</th>\n",
       "      <td>38.0</td>\n",
       "      <td>11.7</td>\n",
       "      <td>14.0</td>\n",
       "      <td>17103.72</td>\n",
       "      <td>0.845897</td>\n",
       "      <td>0.923077</td>\n",
       "      <td>-0.119993</td>\n",
       "      <td>0.300000</td>\n",
       "      <td>3.761200</td>\n",
       "    </tr>\n",
       "    <tr>\n",
       "      <th>1003.0</th>\n",
       "      <td>31.0</td>\n",
       "      <td>10.3</td>\n",
       "      <td>11.0</td>\n",
       "      <td>17660.59</td>\n",
       "      <td>0.000000</td>\n",
       "      <td>1.142857</td>\n",
       "      <td>-0.256150</td>\n",
       "      <td>0.331662</td>\n",
       "      <td>4.304065</td>\n",
       "    </tr>\n",
       "    <tr>\n",
       "      <th>1005.0</th>\n",
       "      <td>44.0</td>\n",
       "      <td>11.5</td>\n",
       "      <td>18.0</td>\n",
       "      <td>17315.13</td>\n",
       "      <td>1.681793</td>\n",
       "      <td>0.595745</td>\n",
       "      <td>0.486586</td>\n",
       "      <td>0.360555</td>\n",
       "      <td>3.688879</td>\n",
       "    </tr>\n",
       "    <tr>\n",
       "      <th>1007.0</th>\n",
       "      <td>38.0</td>\n",
       "      <td>11.2</td>\n",
       "      <td>15.0</td>\n",
       "      <td>16904.87</td>\n",
       "      <td>1.146531</td>\n",
       "      <td>1.027027</td>\n",
       "      <td>1.676702</td>\n",
       "      <td>0.316228</td>\n",
       "      <td>4.060443</td>\n",
       "    </tr>\n",
       "    <tr>\n",
       "      <th>1009.0</th>\n",
       "      <td>34.0</td>\n",
       "      <td>11.7</td>\n",
       "      <td>14.0</td>\n",
       "      <td>16393.63</td>\n",
       "      <td>1.146531</td>\n",
       "      <td>1.307692</td>\n",
       "      <td>1.485030</td>\n",
       "      <td>0.346410</td>\n",
       "      <td>3.178054</td>\n",
       "    </tr>\n",
       "  </tbody>\n",
       "</table>\n",
       "</div>"
      ],
      "text/plain": [
       "        obesity  pollution  diabetes  sunlight  smoking_tr  foodenv_tr  \\\n",
       "fips                                                                     \n",
       "1001.0     38.0       11.7      14.0  17103.72    0.845897    0.923077   \n",
       "1003.0     31.0       10.3      11.0  17660.59    0.000000    1.142857   \n",
       "1005.0     44.0       11.5      18.0  17315.13    1.681793    0.595745   \n",
       "1007.0     38.0       11.2      15.0  16904.87    1.146531    1.027027   \n",
       "1009.0     34.0       11.7      14.0  16393.63    1.146531    1.307692   \n",
       "\n",
       "        gauss_exercise  noinsurance_tr  physicians_tr  \n",
       "fips                                                   \n",
       "1001.0       -0.119993        0.300000       3.761200  \n",
       "1003.0       -0.256150        0.331662       4.304065  \n",
       "1005.0        0.486586        0.360555       3.688879  \n",
       "1007.0        1.676702        0.316228       4.060443  \n",
       "1009.0        1.485030        0.346410       3.178054  "
      ]
     },
     "execution_count": 60,
     "metadata": {},
     "output_type": "execute_result"
    }
   ],
   "source": [
    "xdatanorm = xdata.drop(columns=['smoking','foodenv','exercise','noinsurance','physicians'])\n",
    "xdatanorm.head()"
   ]
  },
  {
   "cell_type": "code",
   "execution_count": 61,
   "metadata": {},
   "outputs": [
    {
     "data": {
      "text/plain": [
       "obesity           3147\n",
       "pollution         3113\n",
       "diabetes          3147\n",
       "sunlight          3112\n",
       "smoking_tr        3147\n",
       "foodenv_tr        3128\n",
       "gauss_exercise    3141\n",
       "noinsurance_tr    3146\n",
       "physicians_tr     3011\n",
       "dtype: int64"
      ]
     },
     "execution_count": 61,
     "metadata": {},
     "output_type": "execute_result"
    }
   ],
   "source": [
    "xdatanorm.count()"
   ]
  },
  {
   "cell_type": "code",
   "execution_count": 62,
   "metadata": {},
   "outputs": [],
   "source": [
    "ydata = data[['fips','Age Adjusted Rate']].set_index('fips')"
   ]
  },
  {
   "cell_type": "code",
   "execution_count": 63,
   "metadata": {},
   "outputs": [
    {
     "data": {
      "text/html": [
       "<div>\n",
       "<style scoped>\n",
       "    .dataframe tbody tr th:only-of-type {\n",
       "        vertical-align: middle;\n",
       "    }\n",
       "\n",
       "    .dataframe tbody tr th {\n",
       "        vertical-align: top;\n",
       "    }\n",
       "\n",
       "    .dataframe thead th {\n",
       "        text-align: right;\n",
       "    }\n",
       "</style>\n",
       "<table border=\"1\" class=\"dataframe\">\n",
       "  <thead>\n",
       "    <tr style=\"text-align: right;\">\n",
       "      <th></th>\n",
       "      <th>Age Adjusted Rate</th>\n",
       "    </tr>\n",
       "    <tr>\n",
       "      <th>fips</th>\n",
       "      <th></th>\n",
       "    </tr>\n",
       "  </thead>\n",
       "  <tbody>\n",
       "    <tr>\n",
       "      <th>1001.0</th>\n",
       "      <td>275.9</td>\n",
       "    </tr>\n",
       "    <tr>\n",
       "      <th>1003.0</th>\n",
       "      <td>240.2</td>\n",
       "    </tr>\n",
       "    <tr>\n",
       "      <th>1005.0</th>\n",
       "      <td>306.8</td>\n",
       "    </tr>\n",
       "    <tr>\n",
       "      <th>1007.0</th>\n",
       "      <td>321.3</td>\n",
       "    </tr>\n",
       "    <tr>\n",
       "      <th>1009.0</th>\n",
       "      <td>287.3</td>\n",
       "    </tr>\n",
       "  </tbody>\n",
       "</table>\n",
       "</div>"
      ],
      "text/plain": [
       "        Age Adjusted Rate\n",
       "fips                     \n",
       "1001.0              275.9\n",
       "1003.0              240.2\n",
       "1005.0              306.8\n",
       "1007.0              321.3\n",
       "1009.0              287.3"
      ]
     },
     "execution_count": 63,
     "metadata": {},
     "output_type": "execute_result"
    }
   ],
   "source": [
    "ydata.head()"
   ]
  },
  {
   "cell_type": "code",
   "execution_count": 64,
   "metadata": {},
   "outputs": [
    {
     "data": {
      "text/plain": [
       "Age Adjusted Rate    3056\n",
       "dtype: int64"
      ]
     },
     "execution_count": 64,
     "metadata": {},
     "output_type": "execute_result"
    }
   ],
   "source": [
    "ydata.count()"
   ]
  },
  {
   "cell_type": "code",
   "execution_count": 65,
   "metadata": {},
   "outputs": [
    {
     "data": {
      "text/plain": [
       "<matplotlib.axes._subplots.AxesSubplot at 0x243424dcf98>"
      ]
     },
     "execution_count": 65,
     "metadata": {},
     "output_type": "execute_result"
    },
    {
     "data": {
      "image/png": "[encoded data removed]",
      "text/plain": [
       "<Figure size 432x288 with 1 Axes>"
      ]
     },
     "metadata": {
      "needs_background": "light"
     },
     "output_type": "display_data"
    }
   ],
   "source": [
    "ydata['Age Adjusted Rate'].hist(bins=30)"
   ]
  },
  {
   "cell_type": "code",
   "execution_count": 66,
   "metadata": {},
   "outputs": [
    {
     "data": {
      "text/plain": [
       "1.3515820184154794"
      ]
     },
     "execution_count": 66,
     "metadata": {},
     "output_type": "execute_result"
    }
   ],
   "source": [
    "ydata['Age Adjusted Rate'].kurtosis()"
   ]
  },
  {
   "cell_type": "code",
   "execution_count": 67,
   "metadata": {},
   "outputs": [
    {
     "data": {
      "text/plain": [
       "0.7742437322068572"
      ]
     },
     "execution_count": 67,
     "metadata": {},
     "output_type": "execute_result"
    }
   ],
   "source": [
    "ydata['Age Adjusted Rate'].skew()"
   ]
  },
  {
   "cell_type": "code",
   "execution_count": 68,
   "metadata": {},
   "outputs": [],
   "source": [
    "# Turn the DataFrames into numpy arrays to have scikit work on them...\n",
    "X = xdatanorm.values\n",
    "Y = ydata.values"
   ]
  },
  {
   "cell_type": "code",
   "execution_count": 69,
   "metadata": {},
   "outputs": [],
   "source": [
    "# Because we have missing values, we will use the Imputer to fix them... \n",
    "from sklearn.impute import SimpleImputer\n",
    "# Establish imputer properties \n",
    "imputer = SimpleImputer(missing_values = np.NaN, strategy = 'mean')\n",
    "# Compute the values to fill in\n",
    "imputer = imputer.fit(X)\n",
    "# Place the values in the array\n",
    "X = imputer.transform(X)"
   ]
  },
  {
   "cell_type": "code",
   "execution_count": 70,
   "metadata": {},
   "outputs": [],
   "source": [
    "# Impute the mean value to Y as well\n",
    "# set the mean\n",
    "ymean = np.nanmean(Y)\n",
    "# create an array for where to put this value\n",
    "inds = np.where(np.isnan(Y))\n",
    "# Then put the mean there\n",
    "Y[inds] = np.take(ymean, inds[1])"
   ]
  },
  {
   "cell_type": "code",
   "execution_count": 71,
   "metadata": {},
   "outputs": [],
   "source": [
    "#Now we can do regression on these values ...\n",
    "from sklearn.linear_model import ElasticNetCV\n",
    "# Make regression object\n",
    "regr = ElasticNetCV(l1_ratio=[0.1,0.3,0.5,0.7,0.8,0.9,0.95,0.99], cv=5, random_state=0, normalize=True,)"
   ]
  },
  {
   "cell_type": "code",
   "execution_count": 72,
   "metadata": {},
   "outputs": [],
   "source": [
    "from sklearn.ensemble import RandomForestRegressor"
   ]
  },
  {
   "cell_type": "code",
   "execution_count": 73,
   "metadata": {},
   "outputs": [],
   "source": [
    "clf = RandomForestRegressor(random_state=42)"
   ]
  },
  {
   "cell_type": "code",
   "execution_count": 74,
   "metadata": {},
   "outputs": [],
   "source": [
    "from sklearn.model_selection import train_test_split"
   ]
  },
  {
   "cell_type": "code",
   "execution_count": 75,
   "metadata": {},
   "outputs": [],
   "source": [
    "Xtrain, Xtest, ytrain, ytest = train_test_split(X, Y, test_size=.3, random_state=42)"
   ]
  },
  {
   "cell_type": "code",
   "execution_count": 76,
   "metadata": {},
   "outputs": [
    {
     "name": "stderr",
     "output_type": "stream",
     "text": [
      "C:\\Users\\andre\\Anaconda3\\envs\\plotenv\\lib\\site-packages\\sklearn\\ensemble\\forest.py:246: FutureWarning: The default value of n_estimators will change from 10 in version 0.20 to 100 in 0.22.\n",
      "  \"10 in version 0.20 to 100 in 0.22.\", FutureWarning)\n",
      "C:\\Users\\andre\\Anaconda3\\envs\\plotenv\\lib\\site-packages\\ipykernel_launcher.py:1: DataConversionWarning: A column-vector y was passed when a 1d array was expected. Please change the shape of y to (n_samples,), for example using ravel().\n",
      "  \"\"\"Entry point for launching an IPython kernel.\n"
     ]
    },
    {
     "data": {
      "text/plain": [
       "RandomForestRegressor(bootstrap=True, criterion='mse', max_depth=None,\n",
       "           max_features='auto', max_leaf_nodes=None,\n",
       "           min_impurity_decrease=0.0, min_impurity_split=None,\n",
       "           min_samples_leaf=1, min_samples_split=2,\n",
       "           min_weight_fraction_leaf=0.0, n_estimators=10, n_jobs=None,\n",
       "           oob_score=False, random_state=42, verbose=0, warm_start=False)"
      ]
     },
     "execution_count": 76,
     "metadata": {},
     "output_type": "execute_result"
    }
   ],
   "source": [
    "clf.fit(Xtrain,ytrain)"
   ]
  },
  {
   "cell_type": "code",
   "execution_count": 77,
   "metadata": {},
   "outputs": [
    {
     "data": {
      "text/plain": [
       "0.39958060221242403"
      ]
     },
     "execution_count": 77,
     "metadata": {},
     "output_type": "execute_result"
    }
   ],
   "source": [
    "clf.score(Xtest,ytest)"
   ]
  },
  {
   "cell_type": "code",
   "execution_count": 78,
   "metadata": {},
   "outputs": [
    {
     "name": "stdout",
     "output_type": "stream",
     "text": [
      "obesity 0.07749546382605114\n",
      "pollution 0.09726489571380607\n",
      "diabetes 0.08004792028241112\n",
      "sunlight 0.10265262980150895\n",
      "smoking_tr 0.31970487475532017\n",
      "foodenv_tr 0.08284918833569051\n",
      "gauss_exercise 0.08661685176654323\n",
      "noinsurance_tr 0.062455418371061534\n",
      "physicians_tr 0.09091275714760726\n"
     ]
    }
   ],
   "source": [
    "for a,b in zip(xdatanorm.columns, clf.feature_importances_):\n",
    "    print (a, b)"
   ]
  },
  {
   "cell_type": "code",
   "execution_count": 79,
   "metadata": {},
   "outputs": [
    {
     "name": "stderr",
     "output_type": "stream",
     "text": [
      "C:\\Users\\andre\\Anaconda3\\envs\\plotenv\\lib\\site-packages\\ipykernel_launcher.py:1: DataConversionWarning: A column-vector y was passed when a 1d array was expected. Please change the shape of y to (n_samples,), for example using ravel().\n",
      "  \"\"\"Entry point for launching an IPython kernel.\n"
     ]
    },
    {
     "data": {
      "text/plain": [
       "RandomForestRegressor(bootstrap=True, criterion='mse', max_depth=None,\n",
       "           max_features='auto', max_leaf_nodes=None,\n",
       "           min_impurity_decrease=0.0, min_impurity_split=None,\n",
       "           min_samples_leaf=1, min_samples_split=2,\n",
       "           min_weight_fraction_leaf=0.0, n_estimators=10, n_jobs=None,\n",
       "           oob_score=False, random_state=42, verbose=0, warm_start=False)"
      ]
     },
     "execution_count": 79,
     "metadata": {},
     "output_type": "execute_result"
    }
   ],
   "source": [
    "clf.fit(X,Y)"
   ]
  },
  {
   "cell_type": "code",
   "execution_count": null,
   "metadata": {},
   "outputs": [],
   "source": []
  },
  {
   "cell_type": "code",
   "execution_count": 80,
   "metadata": {},
   "outputs": [
    {
     "name": "stderr",
     "output_type": "stream",
     "text": [
      "C:\\Users\\andre\\Anaconda3\\envs\\plotenv\\lib\\site-packages\\sklearn\\linear_model\\coordinate_descent.py:1109: DataConversionWarning: A column-vector y was passed when a 1d array was expected. Please change the shape of y to (n_samples, ), for example using ravel().\n",
      "  y = column_or_1d(y, warn=True)\n"
     ]
    },
    {
     "data": {
      "text/plain": [
       "ElasticNetCV(alphas=None, copy_X=True, cv=5, eps=0.001, fit_intercept=True,\n",
       "       l1_ratio=[0.1, 0.3, 0.5, 0.7, 0.8, 0.9, 0.95, 0.99], max_iter=1000,\n",
       "       n_alphas=100, n_jobs=None, normalize=True, positive=False,\n",
       "       precompute='auto', random_state=0, selection='cyclic', tol=0.0001,\n",
       "       verbose=0)"
      ]
     },
     "execution_count": 80,
     "metadata": {},
     "output_type": "execute_result"
    }
   ],
   "source": [
    "# Now do the fit\n",
    "regr.fit(X,Y)"
   ]
  },
  {
   "cell_type": "code",
   "execution_count": 81,
   "metadata": {},
   "outputs": [
    {
     "data": {
      "text/plain": [
       "0.0006627493433010329"
      ]
     },
     "execution_count": 81,
     "metadata": {},
     "output_type": "execute_result"
    }
   ],
   "source": [
    "regr.alpha_"
   ]
  },
  {
   "cell_type": "code",
   "execution_count": 82,
   "metadata": {},
   "outputs": [
    {
     "data": {
      "text/plain": [
       "0.9"
      ]
     },
     "execution_count": 82,
     "metadata": {},
     "output_type": "execute_result"
    }
   ],
   "source": [
    "regr.l1_ratio_"
   ]
  },
  {
   "cell_type": "code",
   "execution_count": 83,
   "metadata": {},
   "outputs": [
    {
     "data": {
      "text/plain": [
       "array([ 1.70773554e+00,  3.77799247e+00,  3.19736107e+00,  2.54524375e-03,\n",
       "        1.13439313e+01, -2.37915170e+01,  3.86918402e+00,  4.47906298e+01,\n",
       "       -3.63677095e+00])"
      ]
     },
     "execution_count": 83,
     "metadata": {},
     "output_type": "execute_result"
    }
   ],
   "source": [
    "regr.coef_"
   ]
  },
  {
   "cell_type": "code",
   "execution_count": 84,
   "metadata": {},
   "outputs": [
    {
     "data": {
      "text/plain": [
       "12"
      ]
     },
     "execution_count": 84,
     "metadata": {},
     "output_type": "execute_result"
    }
   ],
   "source": [
    "regr.n_iter_"
   ]
  },
  {
   "cell_type": "code",
   "execution_count": 85,
   "metadata": {},
   "outputs": [
    {
     "data": {
      "text/plain": [
       "101.28759604273168"
      ]
     },
     "execution_count": 85,
     "metadata": {},
     "output_type": "execute_result"
    }
   ],
   "source": [
    "regr.intercept_"
   ]
  },
  {
   "cell_type": "code",
   "execution_count": 86,
   "metadata": {},
   "outputs": [
    {
     "data": {
      "text/plain": [
       "array([[[3970.02641283, 3299.32911009, 4459.67495433, 3303.9337717 ,\n",
       "         3360.15496306],\n",
       "        [3970.00365126, 3299.3024151 , 4459.65108397, 3303.91208195,\n",
       "         3360.12955131],\n",
       "        [3969.97307309, 3299.2621712 , 4459.61852138, 3303.8850438 ,\n",
       "         3360.10230425],\n",
       "        ...,\n",
       "        [3516.14104841, 2794.84514529, 3898.11011422, 2909.88258799,\n",
       "         2987.972546  ],\n",
       "        [3491.51938457, 2768.07978854, 3866.82742864, 2888.58725684,\n",
       "         2968.26921176],\n",
       "        [3466.05396061, 2740.48223264, 3834.36758441, 2866.57093421,\n",
       "         2947.95182131]],\n",
       "\n",
       "       [[3969.95552492, 3299.25854137, 4459.65534389, 3303.8698551 ,\n",
       "         3360.05711664],\n",
       "        [3969.86776823, 3299.15564686, 4459.56331006, 3303.78625286,\n",
       "         3359.95915979],\n",
       "        [3969.74992336, 3299.00052063, 4459.43779585, 3303.68203225,\n",
       "         3359.85414057],\n",
       "        ...,\n",
       "        [2946.05185198, 2205.74907864, 3140.52296638, 2418.93140829,\n",
       "         2551.06779567],\n",
       "        [2916.24341839, 2177.71612155, 3098.23794077, 2393.36906707,\n",
       "         2529.776883  ],\n",
       "        [2887.06450579, 2150.72040875, 3056.46113701, 2368.35756064,\n",
       "         2509.17031292]],\n",
       "\n",
       "       [[3969.82805231, 3299.13163967, 4459.62006597, 3303.7549224 ,\n",
       "         3359.88121042],\n",
       "        [3969.62344575, 3298.89185392, 4459.405478  , 3303.56009467,\n",
       "         3359.65289558],\n",
       "        [3969.34889162, 3298.53031308, 4459.112965  , 3303.31720423,\n",
       "         3359.40817184],\n",
       "        ...,\n",
       "        [2641.98702318, 1950.22763069, 2684.56297915, 2158.97597693,\n",
       "         2350.09230312],\n",
       "        [2623.50284698, 1938.08920955, 2654.26730873, 2143.26231212,\n",
       "         2339.68286963],\n",
       "        [2606.09011084, 1927.27131056, 2625.28810665, 2128.48459658,\n",
       "         2330.22151475]],\n",
       "\n",
       "       ...,\n",
       "\n",
       "       [[3968.06022764, 3297.37132935, 4459.12897517, 3302.16153034,\n",
       "         3357.44747977],\n",
       "        [3966.23858365, 3295.25063846, 4457.21733606, 3300.43834235,\n",
       "         3355.42379862],\n",
       "        [3963.81919277, 3292.04885349, 4454.62850853, 3298.28836754,\n",
       "         3353.26101654],\n",
       "        ...,\n",
       "        [2411.10125685, 1914.8250559 , 2228.17582058, 1976.50183395,\n",
       "         2298.95481993],\n",
       "        [2409.8754582 , 1917.35492614, 2223.95371394, 1976.15202108,\n",
       "         2300.90514183],\n",
       "        [2408.77349695, 1919.82538215, 2220.02520567, 1975.90211857,\n",
       "         2302.84535816]],\n",
       "\n",
       "       [[3965.89362613, 3295.21291977, 4458.52237235, 3300.21007982,\n",
       "         3354.47928447],\n",
       "        [3962.09899741, 3290.83132476, 4454.53742191, 3296.64939678,\n",
       "         3350.2866294 ],\n",
       "        [3957.12234505, 3284.2047199 , 4449.18364791, 3292.20232297,\n",
       "         3345.82172259],\n",
       "        ...,\n",
       "        [2403.03764175, 1937.7573644 , 2196.08327869, 1976.63803271,\n",
       "         2318.88067891],\n",
       "        [2402.65428083, 1939.51834492, 2194.09942369, 1976.86650851,\n",
       "         2320.4379563 ],\n",
       "        [2402.31335344, 1941.2003408 , 2192.25538793, 1977.11359031,\n",
       "         2321.94343885]],\n",
       "\n",
       "       [[3950.11707465, 3279.46369738, 4453.94221139, 3286.05151717,\n",
       "         3333.01785527],\n",
       "        [3932.247357  , 3259.52638513, 4435.08285062, 3270.23787372,\n",
       "         3314.31892952],\n",
       "        [3910.87093637, 3230.21525003, 4411.02197956, 3250.30795333,\n",
       "         3294.58976502],\n",
       "        ...,\n",
       "        [2399.95971923, 1961.38880071, 2173.54849723, 1982.6436578 ,\n",
       "         2342.94220955],\n",
       "        [2399.93321267, 1961.90559621, 2173.1425635 , 1982.78903899,\n",
       "         2343.38030203],\n",
       "        [2399.9098386 , 1962.39022108, 2172.76029795, 1982.92133713,\n",
       "         2343.79268268]]])"
      ]
     },
     "execution_count": 86,
     "metadata": {},
     "output_type": "execute_result"
    }
   ],
   "source": [
    "regr.mse_path_"
   ]
  },
  {
   "cell_type": "code",
   "execution_count": 87,
   "metadata": {},
   "outputs": [
    {
     "data": {
      "text/plain": [
       "0.4176346066851323"
      ]
     },
     "execution_count": 87,
     "metadata": {},
     "output_type": "execute_result"
    }
   ],
   "source": [
    "regr.score(X,Y)"
   ]
  },
  {
   "cell_type": "code",
   "execution_count": 88,
   "metadata": {},
   "outputs": [],
   "source": [
    "Yp = regr.predict(X)"
   ]
  },
  {
   "cell_type": "code",
   "execution_count": 89,
   "metadata": {},
   "outputs": [
    {
     "data": {
      "text/plain": [
       "3189"
      ]
     },
     "execution_count": 89,
     "metadata": {},
     "output_type": "execute_result"
    }
   ],
   "source": [
    "len(Yp)"
   ]
  },
  {
   "cell_type": "code",
   "execution_count": 90,
   "metadata": {},
   "outputs": [],
   "source": [
    "k = np.array((1,0,0,0,0,0,0,0,0),).reshape(1,-1)"
   ]
  },
  {
   "cell_type": "code",
   "execution_count": 91,
   "metadata": {},
   "outputs": [
    {
     "data": {
      "text/plain": [
       "array([102.99533159])"
      ]
     },
     "execution_count": 91,
     "metadata": {},
     "output_type": "execute_result"
    }
   ],
   "source": [
    "regr.predict(k)"
   ]
  },
  {
   "cell_type": "code",
   "execution_count": 92,
   "metadata": {},
   "outputs": [
    {
     "data": {
      "text/html": [
       "<div>\n",
       "<style scoped>\n",
       "    .dataframe tbody tr th:only-of-type {\n",
       "        vertical-align: middle;\n",
       "    }\n",
       "\n",
       "    .dataframe tbody tr th {\n",
       "        vertical-align: top;\n",
       "    }\n",
       "\n",
       "    .dataframe thead th {\n",
       "        text-align: right;\n",
       "    }\n",
       "</style>\n",
       "<table border=\"1\" class=\"dataframe\">\n",
       "  <thead>\n",
       "    <tr style=\"text-align: right;\">\n",
       "      <th></th>\n",
       "      <th>obesity</th>\n",
       "      <th>pollution</th>\n",
       "      <th>diabetes</th>\n",
       "      <th>sunlight</th>\n",
       "      <th>smoking_tr</th>\n",
       "      <th>foodenv_tr</th>\n",
       "      <th>gauss_exercise</th>\n",
       "      <th>noinsurance_tr</th>\n",
       "      <th>physicians_tr</th>\n",
       "    </tr>\n",
       "    <tr>\n",
       "      <th>fips</th>\n",
       "      <th></th>\n",
       "      <th></th>\n",
       "      <th></th>\n",
       "      <th></th>\n",
       "      <th></th>\n",
       "      <th></th>\n",
       "      <th></th>\n",
       "      <th></th>\n",
       "      <th></th>\n",
       "    </tr>\n",
       "  </thead>\n",
       "  <tbody>\n",
       "    <tr>\n",
       "      <th>1001.0</th>\n",
       "      <td>38.0</td>\n",
       "      <td>11.7</td>\n",
       "      <td>14.0</td>\n",
       "      <td>17103.72</td>\n",
       "      <td>0.845897</td>\n",
       "      <td>0.923077</td>\n",
       "      <td>-0.119993</td>\n",
       "      <td>0.300000</td>\n",
       "      <td>3.761200</td>\n",
       "    </tr>\n",
       "    <tr>\n",
       "      <th>1003.0</th>\n",
       "      <td>31.0</td>\n",
       "      <td>10.3</td>\n",
       "      <td>11.0</td>\n",
       "      <td>17660.59</td>\n",
       "      <td>0.000000</td>\n",
       "      <td>1.142857</td>\n",
       "      <td>-0.256150</td>\n",
       "      <td>0.331662</td>\n",
       "      <td>4.304065</td>\n",
       "    </tr>\n",
       "    <tr>\n",
       "      <th>1005.0</th>\n",
       "      <td>44.0</td>\n",
       "      <td>11.5</td>\n",
       "      <td>18.0</td>\n",
       "      <td>17315.13</td>\n",
       "      <td>1.681793</td>\n",
       "      <td>0.595745</td>\n",
       "      <td>0.486586</td>\n",
       "      <td>0.360555</td>\n",
       "      <td>3.688879</td>\n",
       "    </tr>\n",
       "    <tr>\n",
       "      <th>1007.0</th>\n",
       "      <td>38.0</td>\n",
       "      <td>11.2</td>\n",
       "      <td>15.0</td>\n",
       "      <td>16904.87</td>\n",
       "      <td>1.146531</td>\n",
       "      <td>1.027027</td>\n",
       "      <td>1.676702</td>\n",
       "      <td>0.316228</td>\n",
       "      <td>4.060443</td>\n",
       "    </tr>\n",
       "    <tr>\n",
       "      <th>1009.0</th>\n",
       "      <td>34.0</td>\n",
       "      <td>11.7</td>\n",
       "      <td>14.0</td>\n",
       "      <td>16393.63</td>\n",
       "      <td>1.146531</td>\n",
       "      <td>1.307692</td>\n",
       "      <td>1.485030</td>\n",
       "      <td>0.346410</td>\n",
       "      <td>3.178054</td>\n",
       "    </tr>\n",
       "  </tbody>\n",
       "</table>\n",
       "</div>"
      ],
      "text/plain": [
       "        obesity  pollution  diabetes  sunlight  smoking_tr  foodenv_tr  \\\n",
       "fips                                                                     \n",
       "1001.0     38.0       11.7      14.0  17103.72    0.845897    0.923077   \n",
       "1003.0     31.0       10.3      11.0  17660.59    0.000000    1.142857   \n",
       "1005.0     44.0       11.5      18.0  17315.13    1.681793    0.595745   \n",
       "1007.0     38.0       11.2      15.0  16904.87    1.146531    1.027027   \n",
       "1009.0     34.0       11.7      14.0  16393.63    1.146531    1.307692   \n",
       "\n",
       "        gauss_exercise  noinsurance_tr  physicians_tr  \n",
       "fips                                                   \n",
       "1001.0       -0.119993        0.300000       3.761200  \n",
       "1003.0       -0.256150        0.331662       4.304065  \n",
       "1005.0        0.486586        0.360555       3.688879  \n",
       "1007.0        1.676702        0.316228       4.060443  \n",
       "1009.0        1.485030        0.346410       3.178054  "
      ]
     },
     "execution_count": 92,
     "metadata": {},
     "output_type": "execute_result"
    }
   ],
   "source": [
    "xdatanorm.head()"
   ]
  },
  {
   "cell_type": "code",
   "execution_count": 94,
   "metadata": {},
   "outputs": [],
   "source": [
    "masterdata = data.merge(xdatanorm,on='fips',how='outer')"
   ]
  },
  {
   "cell_type": "code",
   "execution_count": 95,
   "metadata": {},
   "outputs": [
    {
     "data": {
      "text/html": [
       "<div>\n",
       "<style scoped>\n",
       "    .dataframe tbody tr th:only-of-type {\n",
       "        vertical-align: middle;\n",
       "    }\n",
       "\n",
       "    .dataframe tbody tr th {\n",
       "        vertical-align: top;\n",
       "    }\n",
       "\n",
       "    .dataframe thead th {\n",
       "        text-align: right;\n",
       "    }\n",
       "</style>\n",
       "<table border=\"1\" class=\"dataframe\">\n",
       "  <thead>\n",
       "    <tr style=\"text-align: right;\">\n",
       "      <th></th>\n",
       "      <th>Unnamed: 0</th>\n",
       "      <th>county</th>\n",
       "      <th>state</th>\n",
       "      <th>county_and_state_x</th>\n",
       "      <th>code</th>\n",
       "      <th>Deaths</th>\n",
       "      <th>Population</th>\n",
       "      <th>Crude Rate</th>\n",
       "      <th>fips</th>\n",
       "      <th>smoking</th>\n",
       "      <th>...</th>\n",
       "      <th>Age Adjusted Rate</th>\n",
       "      <th>obesity_y</th>\n",
       "      <th>pollution_y</th>\n",
       "      <th>diabetes_y</th>\n",
       "      <th>sunlight_y</th>\n",
       "      <th>smoking_tr</th>\n",
       "      <th>foodenv_tr</th>\n",
       "      <th>gauss_exercise</th>\n",
       "      <th>noinsurance_tr</th>\n",
       "      <th>physicians_tr</th>\n",
       "    </tr>\n",
       "  </thead>\n",
       "  <tbody>\n",
       "    <tr>\n",
       "      <th>0</th>\n",
       "      <td>0</td>\n",
       "      <td>Autauga</td>\n",
       "      <td>Alabama</td>\n",
       "      <td>Autauga County, AL</td>\n",
       "      <td>1001.0</td>\n",
       "      <td>163.0</td>\n",
       "      <td>55416.0</td>\n",
       "      <td>294.1</td>\n",
       "      <td>1001.0</td>\n",
       "      <td>19.0</td>\n",
       "      <td>...</td>\n",
       "      <td>275.9</td>\n",
       "      <td>38.0</td>\n",
       "      <td>11.7</td>\n",
       "      <td>14.0</td>\n",
       "      <td>17103.72</td>\n",
       "      <td>0.845897</td>\n",
       "      <td>0.923077</td>\n",
       "      <td>-0.119993</td>\n",
       "      <td>0.300000</td>\n",
       "      <td>3.761200</td>\n",
       "    </tr>\n",
       "    <tr>\n",
       "      <th>1</th>\n",
       "      <td>1</td>\n",
       "      <td>Baldwin</td>\n",
       "      <td>Alabama</td>\n",
       "      <td>Baldwin County, AL</td>\n",
       "      <td>1003.0</td>\n",
       "      <td>640.0</td>\n",
       "      <td>208563.0</td>\n",
       "      <td>306.9</td>\n",
       "      <td>1003.0</td>\n",
       "      <td>17.0</td>\n",
       "      <td>...</td>\n",
       "      <td>240.2</td>\n",
       "      <td>31.0</td>\n",
       "      <td>10.3</td>\n",
       "      <td>11.0</td>\n",
       "      <td>17660.59</td>\n",
       "      <td>0.000000</td>\n",
       "      <td>1.142857</td>\n",
       "      <td>-0.256150</td>\n",
       "      <td>0.331662</td>\n",
       "      <td>4.304065</td>\n",
       "    </tr>\n",
       "    <tr>\n",
       "      <th>2</th>\n",
       "      <td>2</td>\n",
       "      <td>Barbour</td>\n",
       "      <td>Alabama</td>\n",
       "      <td>Barbour County, AL</td>\n",
       "      <td>1005.0</td>\n",
       "      <td>90.0</td>\n",
       "      <td>25965.0</td>\n",
       "      <td>346.6</td>\n",
       "      <td>1005.0</td>\n",
       "      <td>22.0</td>\n",
       "      <td>...</td>\n",
       "      <td>306.8</td>\n",
       "      <td>44.0</td>\n",
       "      <td>11.5</td>\n",
       "      <td>18.0</td>\n",
       "      <td>17315.13</td>\n",
       "      <td>1.681793</td>\n",
       "      <td>0.595745</td>\n",
       "      <td>0.486586</td>\n",
       "      <td>0.360555</td>\n",
       "      <td>3.688879</td>\n",
       "    </tr>\n",
       "    <tr>\n",
       "      <th>3</th>\n",
       "      <td>3</td>\n",
       "      <td>Bibb</td>\n",
       "      <td>Alabama</td>\n",
       "      <td>Bibb County, AL</td>\n",
       "      <td>1007.0</td>\n",
       "      <td>79.0</td>\n",
       "      <td>22643.0</td>\n",
       "      <td>348.9</td>\n",
       "      <td>1007.0</td>\n",
       "      <td>20.0</td>\n",
       "      <td>...</td>\n",
       "      <td>321.3</td>\n",
       "      <td>38.0</td>\n",
       "      <td>11.2</td>\n",
       "      <td>15.0</td>\n",
       "      <td>16904.87</td>\n",
       "      <td>1.146531</td>\n",
       "      <td>1.027027</td>\n",
       "      <td>1.676702</td>\n",
       "      <td>0.316228</td>\n",
       "      <td>4.060443</td>\n",
       "    </tr>\n",
       "    <tr>\n",
       "      <th>4</th>\n",
       "      <td>4</td>\n",
       "      <td>Blount</td>\n",
       "      <td>Alabama</td>\n",
       "      <td>Blount County, AL</td>\n",
       "      <td>1009.0</td>\n",
       "      <td>199.0</td>\n",
       "      <td>57704.0</td>\n",
       "      <td>344.9</td>\n",
       "      <td>1009.0</td>\n",
       "      <td>20.0</td>\n",
       "      <td>...</td>\n",
       "      <td>287.3</td>\n",
       "      <td>34.0</td>\n",
       "      <td>11.7</td>\n",
       "      <td>14.0</td>\n",
       "      <td>16393.63</td>\n",
       "      <td>1.146531</td>\n",
       "      <td>1.307692</td>\n",
       "      <td>1.485030</td>\n",
       "      <td>0.346410</td>\n",
       "      <td>3.178054</td>\n",
       "    </tr>\n",
       "  </tbody>\n",
       "</table>\n",
       "<p>5 rows × 33 columns</p>\n",
       "</div>"
      ],
      "text/plain": [
       "   Unnamed: 0   county    state  county_and_state_x    code  Deaths  \\\n",
       "0           0  Autauga  Alabama  Autauga County, AL  1001.0   163.0   \n",
       "1           1  Baldwin  Alabama  Baldwin County, AL  1003.0   640.0   \n",
       "2           2  Barbour  Alabama  Barbour County, AL  1005.0    90.0   \n",
       "3           3     Bibb  Alabama     Bibb County, AL  1007.0    79.0   \n",
       "4           4   Blount  Alabama   Blount County, AL  1009.0   199.0   \n",
       "\n",
       "   Population  Crude Rate    fips  smoking  ...  Age Adjusted Rate  obesity_y  \\\n",
       "0     55416.0       294.1  1001.0     19.0  ...              275.9       38.0   \n",
       "1    208563.0       306.9  1003.0     17.0  ...              240.2       31.0   \n",
       "2     25965.0       346.6  1005.0     22.0  ...              306.8       44.0   \n",
       "3     22643.0       348.9  1007.0     20.0  ...              321.3       38.0   \n",
       "4     57704.0       344.9  1009.0     20.0  ...              287.3       34.0   \n",
       "\n",
       "   pollution_y  diabetes_y  sunlight_y  smoking_tr  foodenv_tr gauss_exercise  \\\n",
       "0         11.7        14.0    17103.72    0.845897    0.923077      -0.119993   \n",
       "1         10.3        11.0    17660.59    0.000000    1.142857      -0.256150   \n",
       "2         11.5        18.0    17315.13    1.681793    0.595745       0.486586   \n",
       "3         11.2        15.0    16904.87    1.146531    1.027027       1.676702   \n",
       "4         11.7        14.0    16393.63    1.146531    1.307692       1.485030   \n",
       "\n",
       "   noinsurance_tr  physicians_tr  \n",
       "0        0.300000       3.761200  \n",
       "1        0.331662       4.304065  \n",
       "2        0.360555       3.688879  \n",
       "3        0.316228       4.060443  \n",
       "4        0.346410       3.178054  \n",
       "\n",
       "[5 rows x 33 columns]"
      ]
     },
     "execution_count": 95,
     "metadata": {},
     "output_type": "execute_result"
    }
   ],
   "source": [
    "masterdata.head()"
   ]
  },
  {
   "cell_type": "code",
   "execution_count": 96,
   "metadata": {},
   "outputs": [
    {
     "data": {
      "text/plain": [
       "Index(['Unnamed: 0', 'county', 'state', 'county_and_state_x', 'code', 'Deaths',\n",
       "       'Population', 'Crude Rate', 'fips', 'smoking', 'obesity_x', 'foodenv',\n",
       "       'exercise', 'noinsurance', 'physicians', 'pollution_x', 'diabetes_x',\n",
       "       'county_and_state_y', 'code2', 'sunlight_x', 'blow', 'ganj', 'smack',\n",
       "       'Age Adjusted Rate', 'obesity_y', 'pollution_y', 'diabetes_y',\n",
       "       'sunlight_y', 'smoking_tr', 'foodenv_tr', 'gauss_exercise',\n",
       "       'noinsurance_tr', 'physicians_tr'],\n",
       "      dtype='object')"
      ]
     },
     "execution_count": 96,
     "metadata": {},
     "output_type": "execute_result"
    }
   ],
   "source": [
    "masterdata.columns"
   ]
  },
  {
   "cell_type": "code",
   "execution_count": 99,
   "metadata": {},
   "outputs": [],
   "source": [
    "masterdata = masterdata.drop(columns = ['obesity_y','pollution_y','diabetes_y','sunlight_y'])\n",
    "masterdata = masterdata.rename(columns = {'obesity_x':'obesity','pollution_x':'pollution',\n",
    "                                         'diabetes_x':'diabetes','sunlight_x':'sunlight'})"
   ]
  },
  {
   "cell_type": "code",
   "execution_count": 100,
   "metadata": {},
   "outputs": [
    {
     "data": {
      "text/plain": [
       "Index(['Unnamed: 0', 'county', 'state', 'county_and_state_x', 'code', 'Deaths',\n",
       "       'Population', 'Crude Rate', 'fips', 'smoking', 'obesity', 'foodenv',\n",
       "       'exercise', 'noinsurance', 'physicians', 'pollution', 'diabetes',\n",
       "       'county_and_state_y', 'code2', 'sunlight', 'blow', 'ganj', 'smack',\n",
       "       'Age Adjusted Rate', 'smoking_tr', 'foodenv_tr', 'gauss_exercise',\n",
       "       'noinsurance_tr', 'physicians_tr'],\n",
       "      dtype='object')"
      ]
     },
     "execution_count": 100,
     "metadata": {},
     "output_type": "execute_result"
    }
   ],
   "source": [
    "masterdata.columns"
   ]
  },
  {
   "cell_type": "code",
   "execution_count": 101,
   "metadata": {},
   "outputs": [],
   "source": [
    "masterdata.to_csv('master_county_datafile.csv')"
   ]
  },
  {
   "cell_type": "code",
   "execution_count": null,
   "metadata": {},
   "outputs": [],
   "source": []
  }
 ],
 "metadata": {
  "kernelspec": {
   "display_name": "Python 3",
   "language": "python",
   "name": "python3"
  },
  "language_info": {
   "codemirror_mode": {
    "name": "ipython",
    "version": 3
   },
   "file_extension": ".py",
   "mimetype": "text/x-python",
   "name": "python",
   "nbconvert_exporter": "python",
   "pygments_lexer": "ipython3",
   "version": "3.6.8"
  }
 },
 "nbformat": 4,
 "nbformat_minor": 2
}

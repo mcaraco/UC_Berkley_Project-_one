{
 "cells": [
  {
   "cell_type": "code",
   "execution_count": 1,
   "metadata": {},
   "outputs": [],
   "source": [
    "# Needs plotly and geopandas"
   ]
  },
  {
   "cell_type": "code",
   "execution_count": 1,
   "metadata": {},
   "outputs": [
    {
     "data": {
      "text/html": [
       "<div>\n",
       "<style scoped>\n",
       "    .dataframe tbody tr th:only-of-type {\n",
       "        vertical-align: middle;\n",
       "    }\n",
       "\n",
       "    .dataframe tbody tr th {\n",
       "        vertical-align: top;\n",
       "    }\n",
       "\n",
       "    .dataframe thead th {\n",
       "        text-align: right;\n",
       "    }\n",
       "</style>\n",
       "<table border=\"1\" class=\"dataframe\">\n",
       "  <thead>\n",
       "    <tr style=\"text-align: right;\">\n",
       "      <th></th>\n",
       "      <th>Unnamed: 0</th>\n",
       "      <th>Unnamed: 0.1</th>\n",
       "      <th>county</th>\n",
       "      <th>state</th>\n",
       "      <th>county_and_state_x</th>\n",
       "      <th>code</th>\n",
       "      <th>Deaths</th>\n",
       "      <th>Population</th>\n",
       "      <th>Crude Rate</th>\n",
       "      <th>fips</th>\n",
       "      <th>...</th>\n",
       "      <th>county_and_state_y</th>\n",
       "      <th>code2</th>\n",
       "      <th>sunlight</th>\n",
       "      <th>blow</th>\n",
       "      <th>ganj</th>\n",
       "      <th>smack</th>\n",
       "      <th>Age Adjusted Rate</th>\n",
       "      <th>predicted_rate</th>\n",
       "      <th>pred_error</th>\n",
       "      <th>rel_error</th>\n",
       "    </tr>\n",
       "  </thead>\n",
       "  <tbody>\n",
       "    <tr>\n",
       "      <th>0</th>\n",
       "      <td>0</td>\n",
       "      <td>0</td>\n",
       "      <td>Autauga</td>\n",
       "      <td>Alabama</td>\n",
       "      <td>Autauga County, AL</td>\n",
       "      <td>1001.0</td>\n",
       "      <td>163.0</td>\n",
       "      <td>55416.0</td>\n",
       "      <td>294.1</td>\n",
       "      <td>1001.0</td>\n",
       "      <td>...</td>\n",
       "      <td>Autauga County, AL</td>\n",
       "      <td>1001.0</td>\n",
       "      <td>17103.72</td>\n",
       "      <td>1.158</td>\n",
       "      <td>9.282</td>\n",
       "      <td>0.276</td>\n",
       "      <td>275.9</td>\n",
       "      <td>289.582300</td>\n",
       "      <td>13.682300</td>\n",
       "      <td>0.049592</td>\n",
       "    </tr>\n",
       "    <tr>\n",
       "      <th>1</th>\n",
       "      <td>1</td>\n",
       "      <td>1</td>\n",
       "      <td>Baldwin</td>\n",
       "      <td>Alabama</td>\n",
       "      <td>Baldwin County, AL</td>\n",
       "      <td>1003.0</td>\n",
       "      <td>640.0</td>\n",
       "      <td>208563.0</td>\n",
       "      <td>306.9</td>\n",
       "      <td>1003.0</td>\n",
       "      <td>...</td>\n",
       "      <td>Baldwin County, AL</td>\n",
       "      <td>1003.0</td>\n",
       "      <td>17660.59</td>\n",
       "      <td>1.158</td>\n",
       "      <td>9.282</td>\n",
       "      <td>0.276</td>\n",
       "      <td>240.2</td>\n",
       "      <td>245.863620</td>\n",
       "      <td>5.663620</td>\n",
       "      <td>0.023579</td>\n",
       "    </tr>\n",
       "    <tr>\n",
       "      <th>2</th>\n",
       "      <td>2</td>\n",
       "      <td>2</td>\n",
       "      <td>Barbour</td>\n",
       "      <td>Alabama</td>\n",
       "      <td>Barbour County, AL</td>\n",
       "      <td>1005.0</td>\n",
       "      <td>90.0</td>\n",
       "      <td>25965.0</td>\n",
       "      <td>346.6</td>\n",
       "      <td>1005.0</td>\n",
       "      <td>...</td>\n",
       "      <td>Barbour County, AL</td>\n",
       "      <td>1005.0</td>\n",
       "      <td>17315.13</td>\n",
       "      <td>1.158</td>\n",
       "      <td>9.282</td>\n",
       "      <td>0.276</td>\n",
       "      <td>306.8</td>\n",
       "      <td>343.699056</td>\n",
       "      <td>36.899056</td>\n",
       "      <td>0.120271</td>\n",
       "    </tr>\n",
       "    <tr>\n",
       "      <th>3</th>\n",
       "      <td>3</td>\n",
       "      <td>3</td>\n",
       "      <td>Bibb</td>\n",
       "      <td>Alabama</td>\n",
       "      <td>Bibb County, AL</td>\n",
       "      <td>1007.0</td>\n",
       "      <td>79.0</td>\n",
       "      <td>22643.0</td>\n",
       "      <td>348.9</td>\n",
       "      <td>1007.0</td>\n",
       "      <td>...</td>\n",
       "      <td>Bibb County, AL</td>\n",
       "      <td>1007.0</td>\n",
       "      <td>16904.87</td>\n",
       "      <td>1.158</td>\n",
       "      <td>9.282</td>\n",
       "      <td>0.276</td>\n",
       "      <td>321.3</td>\n",
       "      <td>302.868360</td>\n",
       "      <td>-18.431640</td>\n",
       "      <td>-0.057366</td>\n",
       "    </tr>\n",
       "    <tr>\n",
       "      <th>4</th>\n",
       "      <td>4</td>\n",
       "      <td>4</td>\n",
       "      <td>Blount</td>\n",
       "      <td>Alabama</td>\n",
       "      <td>Blount County, AL</td>\n",
       "      <td>1009.0</td>\n",
       "      <td>199.0</td>\n",
       "      <td>57704.0</td>\n",
       "      <td>344.9</td>\n",
       "      <td>1009.0</td>\n",
       "      <td>...</td>\n",
       "      <td>Blount County, AL</td>\n",
       "      <td>1009.0</td>\n",
       "      <td>16393.63</td>\n",
       "      <td>1.158</td>\n",
       "      <td>9.282</td>\n",
       "      <td>0.276</td>\n",
       "      <td>287.3</td>\n",
       "      <td>289.959228</td>\n",
       "      <td>2.659228</td>\n",
       "      <td>0.009256</td>\n",
       "    </tr>\n",
       "  </tbody>\n",
       "</table>\n",
       "<p>5 rows × 28 columns</p>\n",
       "</div>"
      ],
      "text/plain": [
       "   Unnamed: 0  Unnamed: 0.1   county    state  county_and_state_x    code  \\\n",
       "0           0             0  Autauga  Alabama  Autauga County, AL  1001.0   \n",
       "1           1             1  Baldwin  Alabama  Baldwin County, AL  1003.0   \n",
       "2           2             2  Barbour  Alabama  Barbour County, AL  1005.0   \n",
       "3           3             3     Bibb  Alabama     Bibb County, AL  1007.0   \n",
       "4           4             4   Blount  Alabama   Blount County, AL  1009.0   \n",
       "\n",
       "   Deaths  Population  Crude Rate    fips  ...  county_and_state_y   code2  \\\n",
       "0   163.0     55416.0       294.1  1001.0  ...  Autauga County, AL  1001.0   \n",
       "1   640.0    208563.0       306.9  1003.0  ...  Baldwin County, AL  1003.0   \n",
       "2    90.0     25965.0       346.6  1005.0  ...  Barbour County, AL  1005.0   \n",
       "3    79.0     22643.0       348.9  1007.0  ...     Bibb County, AL  1007.0   \n",
       "4   199.0     57704.0       344.9  1009.0  ...   Blount County, AL  1009.0   \n",
       "\n",
       "   sunlight   blow   ganj  smack  Age Adjusted Rate  predicted_rate  \\\n",
       "0  17103.72  1.158  9.282  0.276              275.9      289.582300   \n",
       "1  17660.59  1.158  9.282  0.276              240.2      245.863620   \n",
       "2  17315.13  1.158  9.282  0.276              306.8      343.699056   \n",
       "3  16904.87  1.158  9.282  0.276              321.3      302.868360   \n",
       "4  16393.63  1.158  9.282  0.276              287.3      289.959228   \n",
       "\n",
       "  pred_error  rel_error  \n",
       "0  13.682300   0.049592  \n",
       "1   5.663620   0.023579  \n",
       "2  36.899056   0.120271  \n",
       "3 -18.431640  -0.057366  \n",
       "4   2.659228   0.009256  \n",
       "\n",
       "[5 rows x 28 columns]"
      ]
     },
     "execution_count": 1,
     "metadata": {},
     "output_type": "execute_result"
    }
   ],
   "source": [
    "import pandas as pd\n",
    "import geopandas as gp\n",
    "import plotly\n",
    "import plotly.plotly as py\n",
    "import plotly.figure_factory as ff\n",
    "import plotly.io as pio\n",
    "import io\n",
    "import os\n",
    "data = pd.read_csv(\"age_adjusted_2yr_with_predictions.csv\")\n",
    "data.head()"
   ]
  },
  {
   "cell_type": "code",
   "execution_count": 3,
   "metadata": {},
   "outputs": [],
   "source": [
    "data['sunlight_b'] = data['sunlight'].round(-2)"
   ]
  },
  {
   "cell_type": "code",
   "execution_count": 2,
   "metadata": {},
   "outputs": [
    {
     "name": "stdout",
     "output_type": "stream",
     "text": [
      "Please enter your plotly username: ········\n",
      "Please enter your plotly API key: ········\n"
     ]
    }
   ],
   "source": [
    "import getpass\n",
    "\n",
    "def GetCreds():\n",
    "    plotlyUSER = getpass.getpass(prompt=\"Please enter your plotly username: \")\n",
    "    plotlyKEY = getpass.getpass(prompt=\"Please enter your plotly API key: \")\n",
    "    return plotlyUSER, plotlyKEY\n",
    "\n",
    "plotlyUSER, plotlyKEY = GetCreds()"
   ]
  },
  {
   "cell_type": "code",
   "execution_count": 31,
   "metadata": {},
   "outputs": [
    {
     "data": {
      "text/plain": [
       "'3.7.0'"
      ]
     },
     "execution_count": 31,
     "metadata": {},
     "output_type": "execute_result"
    }
   ],
   "source": [
    "plotly.__version__"
   ]
  },
  {
   "cell_type": "code",
   "execution_count": 10,
   "metadata": {
    "scrolled": true
   },
   "outputs": [
    {
     "name": "stdout",
     "output_type": "stream",
     "text": [
      "The draw time for this plot will be slow for clients without much RAM.\n"
     ]
    },
    {
     "data": {
      "text/html": [
       "<iframe id=\"igraph\" scrolling=\"no\" style=\"border:none;\" seamless=\"seamless\" src=\"https://plot.ly/~andrewguenthner/38.embed\" height=\"450px\" width=\"900px\"></iframe>"
      ],
      "text/plain": [
       "<plotly.tools.PlotlyDisplay object>"
      ]
     },
     "execution_count": 10,
     "metadata": {},
     "output_type": "execute_result"
    }
   ],
   "source": [
    "keyvar = 'Age Adjusted Rate_b'\n",
    "PlotDF = pd.DataFrame()\n",
    "PlotDF.insert(0, \"fips\", data['fips'])\n",
    "PlotDF.insert(1, keyvar, data[keyvar].dropna())\n",
    "PlotDF = PlotDF.dropna()\n",
    "\n",
    "testFIPS = pd.Series(PlotDF['fips'].values.tolist())\n",
    "\n",
    "testVALUES = pd.Series(PlotDF[keyvar].values.tolist())\n",
    "\n",
    "\n",
    "fig = ff.create_choropleth(fips=testFIPS, values=testVALUES)\n",
    "img_bytes = pio.to_image(fig, format='svg', width=1200, height=700, scale=1)\n",
    "py.iplot(fig, filename=keyvar + 'Prevelance by County')"
   ]
  },
  {
   "cell_type": "code",
   "execution_count": 11,
   "metadata": {},
   "outputs": [],
   "source": [
    "with open('age_adjusted_b.svg', 'wb') as f:\n",
    "    f.write(img_bytes)"
   ]
  },
  {
   "cell_type": "code",
   "execution_count": 6,
   "metadata": {},
   "outputs": [],
   "source": [
    "data['pollution_b'] = data['pollution'].round(1)"
   ]
  },
  {
   "cell_type": "code",
   "execution_count": 9,
   "metadata": {},
   "outputs": [],
   "source": [
    "data['Age Adjusted Rate_b'] = data['Age Adjusted Rate'].round(-1)"
   ]
  },
  {
   "cell_type": "code",
   "execution_count": null,
   "metadata": {},
   "outputs": [],
   "source": []
  }
 ],
 "metadata": {
  "kernelspec": {
   "display_name": "Python 3",
   "language": "python",
   "name": "python3"
  },
  "language_info": {
   "codemirror_mode": {
    "name": "ipython",
    "version": 3
   },
   "file_extension": ".py",
   "mimetype": "text/x-python",
   "name": "python",
   "nbconvert_exporter": "python",
   "pygments_lexer": "ipython3",
   "version": "3.6.8"
  }
 },
 "nbformat": 4,
 "nbformat_minor": 2
}
